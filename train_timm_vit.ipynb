{
  "cells": [
    {
      "cell_type": "markdown",
      "id": "aa9ff12c",
      "metadata": {
        "papermill": {
          "duration": 0.036592,
          "end_time": "2022-04-14T20:59:49.299674",
          "exception": false,
          "start_time": "2022-04-14T20:59:49.263082",
          "status": "completed"
        },
        "tags": [],
        "id": "aa9ff12c"
      },
      "source": [
        "# Fine-Tuning Vision Transformers for Image Classification through timm\n",
        "\n",
        "The goal of this notebook is to create an image classifier for sattelite images, using timm (and pytorch) on the EUROSAT dataset.\n",
        "We will fine-tune a Vision Transformer (ViT), as research shows this is the best appraoch for multi-class classification [1].\n",
        "\n",
        "Adapted from: https://www.kaggle.com/code/hinepo/transfer-learning-with-timm-models-and-pytorch"
      ]
    },
    {
      "cell_type": "markdown",
      "id": "2de3f802",
      "metadata": {
        "papermill": {
          "duration": 0.036836,
          "end_time": "2022-04-14T20:59:49.387444",
          "exception": false,
          "start_time": "2022-04-14T20:59:49.350608",
          "status": "completed"
        },
        "tags": [],
        "id": "2de3f802"
      },
      "source": [
        "# Installs\n",
        "\n",
        "Preprend ! to run in colab\n",
        "\n",
        "Might use VSCODE_PID to check for where execution takes place"
      ]
    },
    {
      "cell_type": "code",
      "execution_count": 63,
      "id": "031ae59e",
      "metadata": {
        "execution": {
          "iopub.execute_input": "2022-04-14T20:59:49.456339Z",
          "iopub.status.busy": "2022-04-14T20:59:49.455580Z",
          "iopub.status.idle": "2022-04-14T20:59:58.695204Z",
          "shell.execute_reply": "2022-04-14T20:59:58.694568Z",
          "shell.execute_reply.started": "2022-04-14T20:47:55.902818Z"
        },
        "papermill": {
          "duration": 9.27873,
          "end_time": "2022-04-14T20:59:58.695364",
          "exception": false,
          "start_time": "2022-04-14T20:59:49.416634",
          "status": "completed"
        },
        "tags": [],
        "colab": {
          "base_uri": "https://localhost:8080/"
        },
        "id": "031ae59e",
        "outputId": "2db66163-1b35-446e-8f17-800e28705df6"
      },
      "outputs": [
        {
          "output_type": "stream",
          "name": "stdout",
          "text": [
            "Looking in indexes: https://pypi.org/simple, https://us-python.pkg.dev/colab-wheels/public/simple/\n",
            "Requirement already satisfied: timm in /usr/local/lib/python3.10/dist-packages (0.9.2)\n",
            "Requirement already satisfied: torchvision in /usr/local/lib/python3.10/dist-packages (0.15.2+cu118)\n",
            "Requirement already satisfied: albumentations in /usr/local/lib/python3.10/dist-packages (1.2.1)\n",
            "Requirement already satisfied: torch>=1.7 in /usr/local/lib/python3.10/dist-packages (from timm) (2.0.1+cu118)\n",
            "Requirement already satisfied: pyyaml in /usr/local/lib/python3.10/dist-packages (from timm) (6.0)\n",
            "Requirement already satisfied: huggingface-hub in /usr/local/lib/python3.10/dist-packages (from timm) (0.15.1)\n",
            "Requirement already satisfied: safetensors in /usr/local/lib/python3.10/dist-packages (from timm) (0.3.1)\n",
            "Requirement already satisfied: numpy in /usr/local/lib/python3.10/dist-packages (from torchvision) (1.22.4)\n",
            "Requirement already satisfied: requests in /usr/local/lib/python3.10/dist-packages (from torchvision) (2.27.1)\n",
            "Requirement already satisfied: pillow!=8.3.*,>=5.3.0 in /usr/local/lib/python3.10/dist-packages (from torchvision) (8.4.0)\n",
            "Requirement already satisfied: filelock in /usr/local/lib/python3.10/dist-packages (from torch>=1.7->timm) (3.12.0)\n",
            "Requirement already satisfied: typing-extensions in /usr/local/lib/python3.10/dist-packages (from torch>=1.7->timm) (4.5.0)\n",
            "Requirement already satisfied: sympy in /usr/local/lib/python3.10/dist-packages (from torch>=1.7->timm) (1.11.1)\n",
            "Requirement already satisfied: networkx in /usr/local/lib/python3.10/dist-packages (from torch>=1.7->timm) (3.1)\n",
            "Requirement already satisfied: jinja2 in /usr/local/lib/python3.10/dist-packages (from torch>=1.7->timm) (3.1.2)\n",
            "Requirement already satisfied: triton==2.0.0 in /usr/local/lib/python3.10/dist-packages (from torch>=1.7->timm) (2.0.0)\n",
            "Requirement already satisfied: cmake in /usr/local/lib/python3.10/dist-packages (from triton==2.0.0->torch>=1.7->timm) (3.25.2)\n",
            "Requirement already satisfied: lit in /usr/local/lib/python3.10/dist-packages (from triton==2.0.0->torch>=1.7->timm) (16.0.5)\n",
            "Requirement already satisfied: scipy in /usr/local/lib/python3.10/dist-packages (from albumentations) (1.10.1)\n",
            "Requirement already satisfied: scikit-image>=0.16.1 in /usr/local/lib/python3.10/dist-packages (from albumentations) (0.19.3)\n",
            "Requirement already satisfied: qudida>=0.0.4 in /usr/local/lib/python3.10/dist-packages (from albumentations) (0.0.4)\n",
            "Requirement already satisfied: opencv-python-headless>=4.1.1 in /usr/local/lib/python3.10/dist-packages (from albumentations) (4.7.0.72)\n",
            "Requirement already satisfied: scikit-learn>=0.19.1 in /usr/local/lib/python3.10/dist-packages (from qudida>=0.0.4->albumentations) (1.2.2)\n",
            "Requirement already satisfied: imageio>=2.4.1 in /usr/local/lib/python3.10/dist-packages (from scikit-image>=0.16.1->albumentations) (2.25.1)\n",
            "Requirement already satisfied: tifffile>=2019.7.26 in /usr/local/lib/python3.10/dist-packages (from scikit-image>=0.16.1->albumentations) (2023.4.12)\n",
            "Requirement already satisfied: PyWavelets>=1.1.1 in /usr/local/lib/python3.10/dist-packages (from scikit-image>=0.16.1->albumentations) (1.4.1)\n",
            "Requirement already satisfied: packaging>=20.0 in /usr/local/lib/python3.10/dist-packages (from scikit-image>=0.16.1->albumentations) (23.1)\n",
            "Requirement already satisfied: fsspec in /usr/local/lib/python3.10/dist-packages (from huggingface-hub->timm) (2023.4.0)\n",
            "Requirement already satisfied: tqdm>=4.42.1 in /usr/local/lib/python3.10/dist-packages (from huggingface-hub->timm) (4.65.0)\n",
            "Requirement already satisfied: urllib3<1.27,>=1.21.1 in /usr/local/lib/python3.10/dist-packages (from requests->torchvision) (1.26.15)\n",
            "Requirement already satisfied: certifi>=2017.4.17 in /usr/local/lib/python3.10/dist-packages (from requests->torchvision) (2022.12.7)\n",
            "Requirement already satisfied: charset-normalizer~=2.0.0 in /usr/local/lib/python3.10/dist-packages (from requests->torchvision) (2.0.12)\n",
            "Requirement already satisfied: idna<4,>=2.5 in /usr/local/lib/python3.10/dist-packages (from requests->torchvision) (3.4)\n",
            "Requirement already satisfied: joblib>=1.1.1 in /usr/local/lib/python3.10/dist-packages (from scikit-learn>=0.19.1->qudida>=0.0.4->albumentations) (1.2.0)\n",
            "Requirement already satisfied: threadpoolctl>=2.0.0 in /usr/local/lib/python3.10/dist-packages (from scikit-learn>=0.19.1->qudida>=0.0.4->albumentations) (3.1.0)\n",
            "Requirement already satisfied: MarkupSafe>=2.0 in /usr/local/lib/python3.10/dist-packages (from jinja2->torch>=1.7->timm) (2.1.2)\n",
            "Requirement already satisfied: mpmath>=0.19 in /usr/local/lib/python3.10/dist-packages (from sympy->torch>=1.7->timm) (1.3.0)\n"
          ]
        }
      ],
      "source": [
        "!pip install timm torchvision albumentations"
      ]
    },
    {
      "cell_type": "markdown",
      "id": "e0b9fd4d",
      "metadata": {
        "papermill": {
          "duration": 0.029081,
          "end_time": "2022-04-14T20:59:58.755115",
          "exception": false,
          "start_time": "2022-04-14T20:59:58.726034",
          "status": "completed"
        },
        "tags": [],
        "id": "e0b9fd4d"
      },
      "source": [
        "# Importing"
      ]
    },
    {
      "cell_type": "code",
      "execution_count": 64,
      "id": "86fd523b",
      "metadata": {
        "execution": {
          "iopub.execute_input": "2022-04-14T20:59:58.820349Z",
          "iopub.status.busy": "2022-04-14T20:59:58.817765Z",
          "iopub.status.idle": "2022-04-14T21:00:07.140612Z",
          "shell.execute_reply": "2022-04-14T21:00:07.140119Z",
          "shell.execute_reply.started": "2022-04-14T20:48:06.000613Z"
        },
        "papermill": {
          "duration": 8.356151,
          "end_time": "2022-04-14T21:00:07.140744",
          "exception": false,
          "start_time": "2022-04-14T20:59:58.784593",
          "status": "completed"
        },
        "tags": [],
        "id": "86fd523b"
      },
      "outputs": [],
      "source": [
        "import numpy as np\n",
        "import matplotlib.pyplot as plt\n",
        "\n",
        "import time\n",
        "import random # for torch seed\n",
        "import os # for torch seed\n",
        "\n",
        "from sklearn.model_selection import train_test_split\n",
        "\n",
        "import torch\n",
        "from torch import nn\n",
        "from torch.utils.data import Dataset, DataLoader\n",
        "from torch.optim import Adam, AdamW, RMSprop # optmizers\n",
        "from torch.optim.lr_scheduler import CosineAnnealingLR, ReduceLROnPlateau # Learning rate schedulers\n",
        "\n",
        "from PIL import Image\n",
        "\n",
        "import albumentations as A\n",
        "# from albumentations.pytorch import ToTensorV2\n",
        "\n",
        "import timm\n",
        "from timm.data import resolve_data_config\n",
        "from timm.data.transforms_factory import create_transform\n",
        "\n",
        "import torchvision"
      ]
    },
    {
      "cell_type": "markdown",
      "id": "c28c0675",
      "metadata": {
        "papermill": {
          "duration": 0.031089,
          "end_time": "2022-04-14T21:00:12.517190",
          "exception": false,
          "start_time": "2022-04-14T21:00:12.486101",
          "status": "completed"
        },
        "tags": [],
        "id": "c28c0675"
      },
      "source": [
        "# CFG\n",
        "\n",
        "This class enables easy configuration to simulate and understand results.\n",
        "\n",
        "You can tweak some parameters and see how they impact on the metrics, plots, and predictions."
      ]
    },
    {
      "cell_type": "code",
      "execution_count": 65,
      "id": "6b4b183c",
      "metadata": {
        "execution": {
          "iopub.execute_input": "2022-04-14T21:00:12.634246Z",
          "iopub.status.busy": "2022-04-14T21:00:12.633308Z",
          "iopub.status.idle": "2022-04-14T21:00:12.637488Z",
          "shell.execute_reply": "2022-04-14T21:00:12.637063Z",
          "shell.execute_reply.started": "2022-04-14T20:48:18.776935Z"
        },
        "papermill": {
          "duration": 0.088908,
          "end_time": "2022-04-14T21:00:12.637599",
          "exception": false,
          "start_time": "2022-04-14T21:00:12.548691",
          "status": "completed"
        },
        "tags": [],
        "id": "6b4b183c"
      },
      "outputs": [],
      "source": [
        "class CFG:\n",
        "  OUTPUT_PATH = './'\n",
        "\n",
        "  ### input: not configurable\n",
        "  IMG_HEIGHT = 28\n",
        "  IMG_WIDTH = 28\n",
        "\n",
        "  ### split train and validation sets\n",
        "  split_fraction = 0.8\n",
        "\n",
        "  ### model\n",
        "  model_name = 'resnet50' # 'resnet34', 'resnet200d', 'efficientnet_b1_pruned', 'efficientnetv2_m', efficientnet_b7 ...\n",
        "\n",
        "  ### training\n",
        "  print_freq = 100\n",
        "  BATCH_SIZE = 64\n",
        "  N_EPOCHS = 40\n",
        "\n",
        "  ### set only one to True\n",
        "  save_best_loss = False\n",
        "  save_best_accuracy = True\n",
        "\n",
        "  ### optimizer\n",
        "  # optimizer = 'adam'\n",
        "  # optimizer = 'adamw'\n",
        "  optimizer = 'rmsprop'\n",
        "  LEARNING_RATE = 1e-3\n",
        "  weight_decay = 0.1 # for adamw\n",
        "  l2_penalty = 0.01 # for RMSprop\n",
        "  rms_momentum = 0 # for RMSprop\n",
        "\n",
        "  ### learning rate scheduler (LRS)\n",
        "  scheduler = 'ReduceLROnPlateau'\n",
        "  # scheduler = 'CosineAnnealingLR'\n",
        "  plateau_factor = 0.5\n",
        "  plateau_patience = 3\n",
        "  cosine_T_max = 4\n",
        "  cosine_eta_min = 1e-8\n",
        "  verbose = True\n",
        "\n",
        "  ### train and validation DataLoaders\n",
        "  shuffle = False\n",
        "\n",
        "  ### albumentations\n",
        "  probability = 0.6\n",
        "\n",
        "  random_seed = 42"
      ]
    },
    {
      "cell_type": "code",
      "execution_count": 66,
      "id": "fba4f9e1",
      "metadata": {
        "execution": {
          "iopub.execute_input": "2022-04-14T21:00:12.928956Z",
          "iopub.status.busy": "2022-04-14T21:00:12.928008Z",
          "iopub.status.idle": "2022-04-14T21:00:12.934639Z",
          "shell.execute_reply": "2022-04-14T21:00:12.936418Z",
          "shell.execute_reply.started": "2022-04-14T20:48:18.812821Z"
        },
        "papermill": {
          "duration": 0.11945,
          "end_time": "2022-04-14T21:00:12.936827",
          "exception": false,
          "start_time": "2022-04-14T21:00:12.817377",
          "status": "completed"
        },
        "tags": [],
        "colab": {
          "base_uri": "https://localhost:8080/"
        },
        "id": "fba4f9e1",
        "outputId": "edbbe527-8dfd-4526-8581-8a1203e00831"
      },
      "outputs": [
        {
          "output_type": "stream",
          "name": "stdout",
          "text": [
            "cuda\n"
          ]
        }
      ],
      "source": [
        "# detect and define device\n",
        "device = torch.device('cuda' if torch.cuda.is_available() else 'cpu')\n",
        "\n",
        "print(device)"
      ]
    },
    {
      "cell_type": "code",
      "execution_count": 67,
      "id": "3e8173ee",
      "metadata": {
        "execution": {
          "iopub.execute_input": "2022-04-14T21:00:13.075486Z",
          "iopub.status.busy": "2022-04-14T21:00:13.072791Z",
          "iopub.status.idle": "2022-04-14T21:00:13.078689Z",
          "shell.execute_reply": "2022-04-14T21:00:13.079576Z",
          "shell.execute_reply.started": "2022-04-14T20:48:18.872013Z"
        },
        "papermill": {
          "duration": 0.076693,
          "end_time": "2022-04-14T21:00:13.079959",
          "exception": false,
          "start_time": "2022-04-14T21:00:13.003266",
          "status": "completed"
        },
        "tags": [],
        "id": "3e8173ee"
      },
      "outputs": [],
      "source": [
        "# for reproducibility\n",
        "def seed_torch(seed):\n",
        "    random.seed(seed)\n",
        "    os.environ['PYTHONHASHSEED'] = str(seed)\n",
        "    np.random.seed(seed)\n",
        "    torch.manual_seed(seed)\n",
        "    torch.cuda.manual_seed(seed)\n",
        "    torch.backends.cudnn.deterministic = True\n",
        "\n",
        "seed_torch(seed = CFG.random_seed)"
      ]
    },
    {
      "cell_type": "markdown",
      "id": "b801f9e7",
      "metadata": {
        "papermill": {
          "duration": 0.032804,
          "end_time": "2022-04-14T21:00:13.607749",
          "exception": false,
          "start_time": "2022-04-14T21:00:13.574945",
          "status": "completed"
        },
        "tags": [],
        "id": "b801f9e7"
      },
      "source": [
        "# Dataset"
      ]
    },
    {
      "cell_type": "code",
      "execution_count": 68,
      "id": "565dc236",
      "metadata": {
        "id": "565dc236"
      },
      "outputs": [],
      "source": [
        "# Turning off necessary in Google Colab: https://github.com/pytorch/vision/issues/5039\n",
        "import ssl\n",
        "ssl._create_default_https_context = ssl._create_unverified_context\n",
        "\n",
        "# https://pytorch.org/vision/stable/generated/torchvision.datasets.EuroSAT.html\n",
        "dataset = torchvision.datasets.EuroSAT(\"./\", download = True)"
      ]
    },
    {
      "cell_type": "code",
      "execution_count": 69,
      "id": "5b1d6e18",
      "metadata": {
        "colab": {
          "base_uri": "https://localhost:8080/"
        },
        "id": "5b1d6e18",
        "outputId": "b8a0fe1d-634f-4c1c-876f-1a1a7ced438e"
      },
      "outputs": [
        {
          "output_type": "execute_result",
          "data": {
            "text/plain": [
              "27000"
            ]
          },
          "metadata": {},
          "execution_count": 69
        }
      ],
      "source": [
        "len(dataset)"
      ]
    },
    {
      "cell_type": "code",
      "execution_count": 70,
      "id": "4e8390fe",
      "metadata": {
        "colab": {
          "base_uri": "https://localhost:8080/"
        },
        "id": "4e8390fe",
        "outputId": "9aaa9034-2e63-45e3-d29a-00c85f010814"
      },
      "outputs": [
        {
          "output_type": "execute_result",
          "data": {
            "text/plain": [
              "['AnnualCrop',\n",
              " 'Forest',\n",
              " 'HerbaceousVegetation',\n",
              " 'Highway',\n",
              " 'Industrial',\n",
              " 'Pasture',\n",
              " 'PermanentCrop',\n",
              " 'Residential',\n",
              " 'River',\n",
              " 'SeaLake']"
            ]
          },
          "metadata": {},
          "execution_count": 70
        }
      ],
      "source": [
        "# Classes in train dataset\n",
        "dataset.classes"
      ]
    },
    {
      "cell_type": "code",
      "execution_count": 71,
      "id": "1c5662c9",
      "metadata": {
        "colab": {
          "base_uri": "https://localhost:8080/"
        },
        "id": "1c5662c9",
        "outputId": "51be64c2-acb1-4764-e161-f624da4911c9"
      },
      "outputs": [
        {
          "output_type": "execute_result",
          "data": {
            "text/plain": [
              "[64, 64]"
            ]
          },
          "metadata": {},
          "execution_count": 71
        }
      ],
      "source": [
        "# Image shape\n",
        "image = Image.open(dataset.imgs[0][0]).convert('RGB')\n",
        "torchvision.transforms.functional.get_image_size(image)"
      ]
    },
    {
      "cell_type": "markdown",
      "id": "c37b4ffe",
      "metadata": {
        "papermill": {
          "duration": 0.033429,
          "end_time": "2022-04-14T21:00:14.385931",
          "exception": false,
          "start_time": "2022-04-14T21:00:14.352502",
          "status": "completed"
        },
        "tags": [],
        "id": "c37b4ffe"
      },
      "source": [
        "# Transfer Learning: timm"
      ]
    },
    {
      "cell_type": "code",
      "execution_count": null,
      "id": "a1a4f33e",
      "metadata": {
        "execution": {
          "iopub.execute_input": "2022-04-14T21:00:14.534390Z",
          "iopub.status.busy": "2022-04-14T21:00:14.533798Z",
          "iopub.status.idle": "2022-04-14T21:00:22.088064Z",
          "shell.execute_reply": "2022-04-14T21:00:22.087590Z",
          "shell.execute_reply.started": "2022-04-14T20:48:19.525537Z"
        },
        "papermill": {
          "duration": 7.594588,
          "end_time": "2022-04-14T21:00:22.088201",
          "exception": false,
          "start_time": "2022-04-14T21:00:14.493613",
          "status": "completed"
        },
        "tags": [],
        "id": "a1a4f33e"
      },
      "outputs": [],
      "source": [
        "### check model structure\n",
        "model = timm.create_model(CFG.model_name, pretrained = True, num_classes = len(dataset.classes))"
      ]
    },
    {
      "cell_type": "code",
      "execution_count": null,
      "id": "cee9cfa7",
      "metadata": {
        "id": "cee9cfa7"
      },
      "outputs": [],
      "source": [
        "# print last layer\n",
        "model.get_classifier()"
      ]
    },
    {
      "cell_type": "code",
      "execution_count": null,
      "id": "3c32509d",
      "metadata": {
        "id": "3c32509d"
      },
      "outputs": [],
      "source": [
        "# Define a transformation on the dataset to match the resolution of the model\n",
        "transform_std = create_transform(**resolve_data_config(model.pretrained_cfg, model=model))\n",
        "print(transform_std)\n",
        "\n",
        "#dataset.transform = transform_std\n",
        "#print(dataset.transform)"
      ]
    },
    {
      "cell_type": "markdown",
      "id": "25896fcf",
      "metadata": {
        "id": "25896fcf"
      },
      "source": [
        "# Split"
      ]
    },
    {
      "cell_type": "code",
      "execution_count": null,
      "id": "b3008f6c",
      "metadata": {
        "id": "b3008f6c"
      },
      "outputs": [],
      "source": [
        "### random split\n",
        "\n",
        "# sklearn's train_test_split runs out of memory on GC.\n",
        "#train_ds, valid_ds = train_test_split(dataset, test_size=(1-CFG.split_fraction), random_state=CFG.random_seed)\n",
        "\n",
        "train_len = int(CFG.split_fraction * len(dataset))\n",
        "lengths = [train_len , len(dataset) - train_len]\n",
        "train_ds, valid_ds = torch.utils.data.random_split(dataset, lengths)\n",
        "\n",
        "len(train_ds), len(valid_ds)"
      ]
    },
    {
      "cell_type": "code",
      "execution_count": null,
      "id": "21b0d143",
      "metadata": {
        "id": "21b0d143"
      },
      "outputs": [],
      "source": [
        "# Check on image size\n",
        "torch.Tensor.size(train_ds[0][0])"
      ]
    },
    {
      "cell_type": "markdown",
      "source": [
        "# Data Augmentation"
      ],
      "metadata": {
        "id": "iN2WEKaoTGQK"
      },
      "id": "iN2WEKaoTGQK"
    },
    {
      "cell_type": "code",
      "source": [
        "train_transform = timm.data.create_transform(\n",
        "    **resolve_data_config(model.pretrained_cfg, model=model),\n",
        "    is_training=True,\n",
        "    auto_augment=\"rand-m7-mstd0.5-inc1\",\n",
        ")\n",
        "print(train_transform)"
      ],
      "metadata": {
        "id": "dNrlMdf6OYOX"
      },
      "id": "dNrlMdf6OYOX",
      "execution_count": null,
      "outputs": []
    },
    {
      "cell_type": "code",
      "source": [
        "val_transform = timm.data.create_transform(**resolve_data_config(model.pretrained_cfg, model=model))\n",
        "print(val_transform)"
      ],
      "metadata": {
        "id": "2r3-J2QtSEx7"
      },
      "id": "2r3-J2QtSEx7",
      "execution_count": null,
      "outputs": []
    },
    {
      "cell_type": "code",
      "source": [
        "# Apply seprate transformation to each subset\n",
        "# Source: https://discuss.pytorch.org/t/torch-utils-data-dataset-random-split/32209/4\n",
        "class MyDataset(Dataset):\n",
        "    def __init__(self, subset, transform=None):\n",
        "        self.subset = subset\n",
        "        self.transform = transform\n",
        "\n",
        "    def __getitem__(self, index):\n",
        "        x, y = self.subset[index]\n",
        "        if self.transform:\n",
        "            x = self.transform(x)\n",
        "        return x, y\n",
        "\n",
        "    def __len__(self):\n",
        "        return len(self.subset)\n",
        "\n",
        "\n",
        "train_ds = MyDataset(train_ds, transform=train_transform)\n",
        "valid_ds = MyDataset(valid_ds, transform=val_transform)"
      ],
      "metadata": {
        "id": "L-cg9Yf2Q4CW"
      },
      "id": "L-cg9Yf2Q4CW",
      "execution_count": null,
      "outputs": []
    },
    {
      "cell_type": "code",
      "source": [
        "valid_ds.transform"
      ],
      "metadata": {
        "id": "fZx2n1wjSXEx"
      },
      "id": "fZx2n1wjSXEx",
      "execution_count": null,
      "outputs": []
    },
    {
      "cell_type": "markdown",
      "id": "54f49079",
      "metadata": {
        "papermill": {
          "duration": 0.034445,
          "end_time": "2022-04-14T21:00:24.469037",
          "exception": false,
          "start_time": "2022-04-14T21:00:24.434592",
          "status": "completed"
        },
        "tags": [],
        "id": "54f49079"
      },
      "source": [
        "# Optimizer\n",
        "\n",
        "Function to get the optimizer to be used (can be tuned in CFG class)."
      ]
    },
    {
      "cell_type": "code",
      "execution_count": null,
      "id": "1a003a14",
      "metadata": {
        "execution": {
          "iopub.execute_input": "2022-04-14T21:00:24.545397Z",
          "iopub.status.busy": "2022-04-14T21:00:24.544671Z",
          "iopub.status.idle": "2022-04-14T21:00:24.547204Z",
          "shell.execute_reply": "2022-04-14T21:00:24.546750Z",
          "shell.execute_reply.started": "2022-04-14T20:48:26.366259Z"
        },
        "papermill": {
          "duration": 0.043266,
          "end_time": "2022-04-14T21:00:24.547316",
          "exception": false,
          "start_time": "2022-04-14T21:00:24.504050",
          "status": "completed"
        },
        "tags": [],
        "id": "1a003a14"
      },
      "outputs": [],
      "source": [
        "def get_optimizer(lr = CFG.LEARNING_RATE):\n",
        "\n",
        "  if CFG.optimizer == 'adam':\n",
        "      optimizer = Adam(model.parameters(), lr=lr, weight_decay = CFG.weight_decay, amsgrad = False)\n",
        "\n",
        "  elif CFG.optimizer == 'adamw':\n",
        "      optimizer = AdamW(model.parameters(), lr = lr, weight_decay = CFG.weight_decay)\n",
        "\n",
        "  elif CFG.optimizer == 'rmsprop':\n",
        "      optimizer = RMSprop(model.parameters(), lr = lr, weight_decay = CFG.l2_penalty, momentum = CFG.rms_momentum)\n",
        "\n",
        "  else:\n",
        "      print('Optimizer is not defined')\n",
        "\n",
        "  return optimizer"
      ]
    },
    {
      "cell_type": "markdown",
      "id": "581cac6e",
      "metadata": {
        "papermill": {
          "duration": 0.034281,
          "end_time": "2022-04-14T21:00:24.616088",
          "exception": false,
          "start_time": "2022-04-14T21:00:24.581807",
          "status": "completed"
        },
        "tags": [],
        "id": "581cac6e"
      },
      "source": [
        "# LR Scheduler"
      ]
    },
    {
      "cell_type": "code",
      "execution_count": null,
      "id": "2748843f",
      "metadata": {
        "execution": {
          "iopub.execute_input": "2022-04-14T21:00:24.691830Z",
          "iopub.status.busy": "2022-04-14T21:00:24.690303Z",
          "iopub.status.idle": "2022-04-14T21:00:24.692438Z",
          "shell.execute_reply": "2022-04-14T21:00:24.692828Z",
          "shell.execute_reply.started": "2022-04-14T20:48:26.374935Z"
        },
        "papermill": {
          "duration": 0.042369,
          "end_time": "2022-04-14T21:00:24.692976",
          "exception": false,
          "start_time": "2022-04-14T21:00:24.650607",
          "status": "completed"
        },
        "tags": [],
        "id": "2748843f"
      },
      "outputs": [],
      "source": [
        "def get_scheduler(optimizer):\n",
        "\n",
        "  if CFG.scheduler=='ReduceLROnPlateau':\n",
        "      scheduler = ReduceLROnPlateau(optimizer, mode='max', factor = CFG.plateau_factor, patience = CFG.plateau_patience, verbose = CFG.verbose)\n",
        "\n",
        "  elif CFG.scheduler=='CosineAnnealingLR':\n",
        "      scheduler = CosineAnnealingLR(optimizer, T_max = CFG.cosine_T_max, eta_min = CFG.cosine_eta_min)\n",
        "\n",
        "  else:\n",
        "      print('LR Scheduler is not defined')\n",
        "\n",
        "  return scheduler"
      ]
    },
    {
      "cell_type": "markdown",
      "id": "eebfbb0c",
      "metadata": {
        "papermill": {
          "duration": 0.03416,
          "end_time": "2022-04-14T21:00:24.761561",
          "exception": false,
          "start_time": "2022-04-14T21:00:24.727401",
          "status": "completed"
        },
        "tags": [],
        "id": "eebfbb0c"
      },
      "source": [
        "# Train function"
      ]
    },
    {
      "cell_type": "code",
      "execution_count": null,
      "id": "0789dbf3",
      "metadata": {
        "execution": {
          "iopub.execute_input": "2022-04-14T21:00:24.842061Z",
          "iopub.status.busy": "2022-04-14T21:00:24.840464Z",
          "iopub.status.idle": "2022-04-14T21:00:24.842614Z",
          "shell.execute_reply": "2022-04-14T21:00:24.843045Z",
          "shell.execute_reply.started": "2022-04-14T20:48:26.387360Z"
        },
        "papermill": {
          "duration": 0.047135,
          "end_time": "2022-04-14T21:00:24.843177",
          "exception": false,
          "start_time": "2022-04-14T21:00:24.796042",
          "status": "completed"
        },
        "tags": [],
        "id": "0789dbf3"
      },
      "outputs": [],
      "source": [
        "def train_fn(train_loader, model, criterion, optmizer, device):\n",
        "  # switch to train mode\n",
        "  model.train()\n",
        "\n",
        "\n",
        "  size = len(train_loader.dataset)\n",
        "  num_batches = len(train_loader)\n",
        "\n",
        "  loss, correct = 0, 0\n",
        "\n",
        "  ################################# train #################################\n",
        "\n",
        "  for batch, (X, y) in enumerate(train_loader):\n",
        "\n",
        "    start = time.time()\n",
        "\n",
        "    device = torch.device(device)\n",
        "    X, y = X.to(device), y.to(device)\n",
        "\n",
        "    # compute predictions and loss\n",
        "    optimizer.zero_grad()\n",
        "    pred = model(X)\n",
        "    loss = criterion(pred, y.long().squeeze())\n",
        "    current = batch * len(X)\n",
        "\n",
        "    # Backpropagation: only in train function, not done in validation function\n",
        "    loss.backward()\n",
        "    optimizer.step()\n",
        "\n",
        "    # sum correct predictions\n",
        "    y_pred, y_true = torch.argmax(pred, axis=1), y.long().squeeze()\n",
        "    correct += (y_pred == y_true).type(torch.float).sum().item()\n",
        "\n",
        "    end = time.time()\n",
        "    time_delta = np.round(end - start, 3)\n",
        "\n",
        "    # log\n",
        "    loss, current = np.round(loss.item(), 5), batch * len(X)\n",
        "    # if batch % (CFG.print_freq) == 0:\n",
        "    #   print(f\"Train Batch: {current:>5d}/{size:>5d}: loss: {loss:>5f} Elapsed Time: {time_delta} s\")\n",
        "\n",
        "  # metrics: calculate accuracy and loss for epoch (all batches)\n",
        "  correct /= size # epoch accuracy\n",
        "  loss /= num_batches # epoch loss\n",
        "\n",
        "  print(f\"Train: Accuracy: {(100*correct):>0.2f}%, Avg loss: {loss:>5f} \\n\")\n",
        "\n",
        "  return loss, correct"
      ]
    },
    {
      "cell_type": "markdown",
      "id": "0b1c6e71",
      "metadata": {
        "papermill": {
          "duration": 0.034763,
          "end_time": "2022-04-14T21:00:24.912827",
          "exception": false,
          "start_time": "2022-04-14T21:00:24.878064",
          "status": "completed"
        },
        "tags": [],
        "id": "0b1c6e71"
      },
      "source": [
        "# Validation function\n",
        "\n",
        "Use it when you are sure you will not call Tensor.backward(). It reduces memory and time consumption."
      ]
    },
    {
      "cell_type": "code",
      "execution_count": null,
      "id": "afdf3660",
      "metadata": {
        "execution": {
          "iopub.execute_input": "2022-04-14T21:00:24.993221Z",
          "iopub.status.busy": "2022-04-14T21:00:24.991870Z",
          "iopub.status.idle": "2022-04-14T21:00:24.995236Z",
          "shell.execute_reply": "2022-04-14T21:00:24.995661Z",
          "shell.execute_reply.started": "2022-04-14T20:48:26.398779Z"
        },
        "papermill": {
          "duration": 0.047818,
          "end_time": "2022-04-14T21:00:24.995796",
          "exception": false,
          "start_time": "2022-04-14T21:00:24.947978",
          "status": "completed"
        },
        "tags": [],
        "id": "afdf3660"
      },
      "outputs": [],
      "source": [
        "def valid_fn(valid_loader, model, criterion, device):\n",
        "  model.eval()\n",
        "\n",
        "  size = len(valid_loader.dataset)\n",
        "  num_batches = len(valid_loader)\n",
        "\n",
        "  loss, correct = 0, 0\n",
        "\n",
        "  ################################# validation #################################\n",
        "\n",
        "  with torch.no_grad(): # disable gradients\n",
        "    for batch, (X, y) in enumerate(valid_loader):\n",
        "\n",
        "      start = time.time()\n",
        "\n",
        "      device = torch.device(device)\n",
        "      X, y = X.to(device), y.to(device)\n",
        "\n",
        "      # compute predictions and loss\n",
        "      pred = model(X)\n",
        "      loss = criterion(pred, y.long().squeeze())\n",
        "      current = batch * len(X)\n",
        "\n",
        "      # sum correct predictions\n",
        "      y_pred, y_true = torch.argmax(pred, axis=1), y.long().squeeze()\n",
        "      correct += (y_pred == y_true).type(torch.float).sum().item()\n",
        "\n",
        "      end = time.time()\n",
        "      time_delta = np.round(end - start, 3)\n",
        "\n",
        "      # log\n",
        "      loss, current = np.round(loss.item(), 5), batch * len(X)\n",
        "      # if batch % (CFG.print_freq) == 0:\n",
        "      #   print(f\"Valid Batch: {current:>5d}/{size:>5d}: loss: {loss:>5f} Elapsed Time: {time_delta} s\")\n",
        "\n",
        "  # metrics: calculate accuracy and loss for epoch (all batches)\n",
        "  correct /= size # epoch accuracy\n",
        "  loss /= num_batches # epoch loss\n",
        "\n",
        "  print(f\"Valid: Accuracy: {(100*correct):>0.2f}%, Avg loss: {loss:>5f} \\n\")\n",
        "\n",
        "  return loss, correct"
      ]
    },
    {
      "cell_type": "markdown",
      "id": "9d9178f3",
      "metadata": {
        "papermill": {
          "duration": 0.03476,
          "end_time": "2022-04-14T21:00:25.067252",
          "exception": false,
          "start_time": "2022-04-14T21:00:25.032492",
          "status": "completed"
        },
        "tags": [],
        "id": "9d9178f3"
      },
      "source": [
        "# Run training"
      ]
    },
    {
      "cell_type": "code",
      "execution_count": null,
      "id": "33625d12",
      "metadata": {
        "execution": {
          "iopub.execute_input": "2022-04-14T21:00:25.150772Z",
          "iopub.status.busy": "2022-04-14T21:00:25.145648Z",
          "iopub.status.idle": "2022-04-14T21:09:56.374809Z",
          "shell.execute_reply": "2022-04-14T21:09:56.375946Z",
          "shell.execute_reply.started": "2022-04-14T20:48:26.411568Z"
        },
        "papermill": {
          "duration": 571.273655,
          "end_time": "2022-04-14T21:09:56.376166",
          "exception": false,
          "start_time": "2022-04-14T21:00:25.102511",
          "status": "completed"
        },
        "tags": [],
        "id": "33625d12"
      },
      "outputs": [],
      "source": [
        "start = time.time()\n",
        "\n",
        "# define loss function\n",
        "loss_fn = nn.CrossEntropyLoss()\n",
        "\n",
        "# instantiate model\n",
        "device = torch.device(device)\n",
        "model = model.to(device) # move the model to GPU before constructing optimizers for it\n",
        "\n",
        "print('\\n ******************************* Using backbone: ', CFG.model_name, \" ******************************* \\n\")\n",
        "\n",
        "# define optimizer\n",
        "optimizer = get_optimizer(lr = CFG.LEARNING_RATE)\n",
        "\n",
        "# define scheduler\n",
        "scheduler = get_scheduler(optimizer)\n",
        "\n",
        "# prepare dataset\n",
        "train_dataloader = DataLoader(train_ds,\n",
        "                              batch_size = CFG.BATCH_SIZE,\n",
        "                              shuffle = CFG.shuffle)\n",
        "\n",
        "valid_dataloader = DataLoader(valid_ds,\n",
        "                              batch_size = CFG.BATCH_SIZE,\n",
        "                              shuffle = CFG.shuffle)\n",
        "\n",
        "\n",
        "train_loss_history = []\n",
        "train_acc_history = []\n",
        "valid_loss_history = []\n",
        "valid_acc_history = []\n",
        "LR_history = []\n",
        "\n",
        "best_loss = np.inf\n",
        "best_epoch_loss = 0\n",
        "best_acc = 0\n",
        "best_epoch_acc = 0\n",
        "\n",
        "print('Starting Training...\\n')\n",
        "\n",
        "start_train_time = time.time()\n",
        "\n",
        "for epoch in range(0, CFG.N_EPOCHS):\n",
        "  print(f\"\\n-------------------------------   Epoch {epoch + 1}   -------------------------------\\n\")\n",
        "  start_epoch_time = time.time()\n",
        "\n",
        "  # train\n",
        "  train_loss, train_acc = train_fn(train_dataloader, model, loss_fn, optimizer, device)\n",
        "  train_loss_history.append(train_loss)\n",
        "  train_acc_history.append(train_acc)\n",
        "\n",
        "  # validation\n",
        "  valid_loss, valid_acc = valid_fn(valid_dataloader, model, loss_fn, device)\n",
        "  valid_loss_history.append(valid_loss)\n",
        "  valid_acc_history.append(valid_acc)\n",
        "\n",
        "  # apply LR scheduler after each epoch\n",
        "  if isinstance(scheduler, ReduceLROnPlateau):\n",
        "      scheduler.step(valid_loss)\n",
        "\n",
        "  elif isinstance(scheduler, CosineAnnealingLR):\n",
        "      scheduler.step()\n",
        "\n",
        "  # save LR value to plot later\n",
        "  for param_group in optimizer.param_groups:\n",
        "    LR_history.append(param_group['lr'])\n",
        "\n",
        "  # save validation loss if it was improved (reduced)\n",
        "  if valid_loss < best_loss:\n",
        "    best_epoch_loss = epoch + 1\n",
        "    best_loss = valid_loss\n",
        "    if CFG.save_best_loss:\n",
        "      # save the model's weights and biases only if CFG.save_best_loss == True\n",
        "      torch.save(model.state_dict(), CFG.OUTPUT_PATH + f\"DigitModel_ep{best_epoch_loss}.pth\")\n",
        "\n",
        "  # save validation accuracy if it was improved (increased)\n",
        "  if valid_acc > best_acc:\n",
        "    best_epoch_acc = epoch + 1\n",
        "    best_acc = valid_acc\n",
        "    if CFG.save_best_accuracy:\n",
        "      # save the model's weights and biases only if CFG.save_best_accuracy == True\n",
        "      torch.save(model.state_dict(), CFG.OUTPUT_PATH + f\"DigitModel_ep{best_epoch_acc}.pth\")\n",
        "\n",
        "  end_epoch_time = time.time()\n",
        "  time_delta = np.round(end_epoch_time - start_epoch_time, 3)\n",
        "  print(\"\\n\\nEpoch Elapsed Time: {} s\".format(time_delta))\n",
        "\n",
        "end_train_time = time.time()\n",
        "print(\"\\n\\nTotal Elapsed Time: {} min\".format(np.round((end_train_time - start_train_time)/60, 3)))\n",
        "print(\"Done!\")"
      ]
    },
    {
      "cell_type": "markdown",
      "id": "620e8103",
      "metadata": {
        "papermill": {
          "duration": 0.05645,
          "end_time": "2022-04-14T21:09:56.522631",
          "exception": false,
          "start_time": "2022-04-14T21:09:56.466181",
          "status": "completed"
        },
        "tags": [],
        "id": "620e8103"
      },
      "source": [
        "# Plot Epochs\n",
        "\n",
        "Plot Train and Validation Loss and Accuracy for each Epoch."
      ]
    },
    {
      "cell_type": "code",
      "execution_count": null,
      "id": "64742caf",
      "metadata": {
        "execution": {
          "iopub.execute_input": "2022-04-14T21:09:56.644347Z",
          "iopub.status.busy": "2022-04-14T21:09:56.642785Z",
          "iopub.status.idle": "2022-04-14T21:09:56.646668Z",
          "shell.execute_reply": "2022-04-14T21:09:56.646186Z",
          "shell.execute_reply.started": "2022-04-14T20:58:06.917234Z"
        },
        "papermill": {
          "duration": 0.0671,
          "end_time": "2022-04-14T21:09:56.646780",
          "exception": false,
          "start_time": "2022-04-14T21:09:56.579680",
          "status": "completed"
        },
        "tags": [],
        "id": "64742caf",
        "outputId": "aea39d0e-5c08-4a29-c8f9-a6aac3c8de1f"
      },
      "outputs": [
        {
          "name": "stdout",
          "output_type": "stream",
          "text": [
            "Best loss:  0.006053333333333333\n",
            "Best epoch (loss criteria):  16\n",
            "\n",
            "\n",
            "Best accuracy:  0.9904807234650167\n",
            "Best epoch (accuracy criteria):  29\n"
          ]
        }
      ],
      "source": [
        "print('Best loss: ', best_loss)\n",
        "print('Best epoch (loss criteria): ', best_epoch_loss)\n",
        "print('\\n')\n",
        "print('Best accuracy: ', best_acc)\n",
        "print('Best epoch (accuracy criteria): ', best_epoch_acc)"
      ]
    },
    {
      "cell_type": "code",
      "execution_count": null,
      "id": "09da20a6",
      "metadata": {
        "execution": {
          "iopub.execute_input": "2022-04-14T21:09:56.788851Z",
          "iopub.status.busy": "2022-04-14T21:09:56.786888Z",
          "iopub.status.idle": "2022-04-14T21:09:57.338280Z",
          "shell.execute_reply": "2022-04-14T21:09:57.338712Z",
          "shell.execute_reply.started": "2022-04-14T20:58:06.926023Z"
        },
        "papermill": {
          "duration": 0.633112,
          "end_time": "2022-04-14T21:09:57.338859",
          "exception": false,
          "start_time": "2022-04-14T21:09:56.705747",
          "status": "completed"
        },
        "tags": [],
        "id": "09da20a6",
        "outputId": "67aec65c-5c81-4b4b-fe08-12f9a3ad15ca"
      },
      "outputs": [
        {
          "data": {
            "image/png": "[encoded data removed]",
            "text/plain": [
              "<Figure size 1296x576 with 2 Axes>"
            ]
          },
          "metadata": {
            "needs_background": "light"
          },
          "output_type": "display_data"
        }
      ],
      "source": [
        "fig = plt.figure(figsize = (18, 8))\n",
        "fig.suptitle('Epoch Results', fontsize = 18)\n",
        "\n",
        "abscissa = np.arange(1, CFG.N_EPOCHS + 1, 1)\n",
        "\n",
        "# x_ticks according to CFG.N_EPOCHS for better visuailzation\n",
        "if CFG.N_EPOCHS <= 20:\n",
        "  x_ticks = np.arange(1, CFG.N_EPOCHS + 1, 1)\n",
        "else:\n",
        "  x_ticks = np.arange(1, CFG.N_EPOCHS + 1, int(CFG.N_EPOCHS/20) + 1)\n",
        "\n",
        "# Loss plot\n",
        "ax1 = plt.subplot(1, 2, 1)\n",
        "ax1.plot(abscissa, train_loss_history, label='Training', color = 'black')\n",
        "ax1.plot(abscissa, valid_loss_history, label='Validation', color = 'red')\n",
        "plt.xticks(x_ticks)\n",
        "plt.axhline(0, linestyle = 'dashed', color = 'grey')\n",
        "plt.axvline(best_epoch_loss, linestyle = 'dashed', color = 'blue', label = 'Best val loss: ep ' + str(best_epoch_loss))\n",
        "plt.axvline(best_epoch_acc, linestyle = 'dashed', color = 'green', label = 'Best val acc: ep ' + str(best_epoch_acc))\n",
        "plt.title(\"Loss\")\n",
        "ax1.legend(frameon=False);\n",
        "\n",
        "# Accuracy plot\n",
        "ax2 = plt.subplot(1, 2, 2)\n",
        "ax2.plot(abscissa, train_acc_history, label='Training', color = 'black')\n",
        "ax2.plot(abscissa, valid_acc_history, label='Validation', color = 'red')\n",
        "plt.xticks(x_ticks)\n",
        "plt.axhline(0.99, linestyle = 'dashed', color = 'grey')\n",
        "plt.axvline(best_epoch_loss, linestyle = 'dashed', color = 'blue', label = 'Best val loss: ep ' + str(best_epoch_loss))\n",
        "plt.axvline(best_epoch_acc, linestyle = 'dashed', color = 'green', label = 'Best val acc: ep ' + str(best_epoch_acc))\n",
        "plt.title(\"Accuracy\")\n",
        "ax2.legend(frameon=False);"
      ]
    },
    {
      "cell_type": "code",
      "execution_count": null,
      "id": "03015c5d",
      "metadata": {
        "execution": {
          "iopub.execute_input": "2022-04-14T21:09:57.506329Z",
          "iopub.status.busy": "2022-04-14T21:09:57.504802Z",
          "iopub.status.idle": "2022-04-14T21:09:57.773509Z",
          "shell.execute_reply": "2022-04-14T21:09:57.774046Z",
          "shell.execute_reply.started": "2022-04-14T20:58:07.729525Z"
        },
        "papermill": {
          "duration": 0.376408,
          "end_time": "2022-04-14T21:09:57.774197",
          "exception": false,
          "start_time": "2022-04-14T21:09:57.397789",
          "status": "completed"
        },
        "tags": [],
        "id": "03015c5d",
        "outputId": "64640d16-dc44-4691-dc79-829291183533"
      },
      "outputs": [
        {
          "data": {
            "image/png": "[encoded data removed]",
            "text/plain": [
              "<Figure size 1008x576 with 1 Axes>"
            ]
          },
          "metadata": {
            "needs_background": "light"
          },
          "output_type": "display_data"
        }
      ],
      "source": [
        "fig = plt.figure(figsize = (14, 8))\n",
        "\n",
        "abscissa = np.arange(1, CFG.N_EPOCHS + 1, 1)\n",
        "\n",
        "# x_ticks according to CFG.N_EPOCHS for better visuailzation\n",
        "if CFG.N_EPOCHS <= 20:\n",
        "  x_ticks = np.arange(1, CFG.N_EPOCHS + 1, 1)\n",
        "else:\n",
        "  x_ticks = np.arange(1, CFG.N_EPOCHS + 1, int(CFG.N_EPOCHS/20) + 1)\n",
        "\n",
        "# LR plot\n",
        "plt.plot(abscissa, LR_history, label='LR', color = 'orange')\n",
        "plt.xticks(x_ticks)\n",
        "plt.axhline(CFG.LEARNING_RATE, linestyle = 'dashed', color = 'grey')\n",
        "plt.axhline(0, linestyle = 'dashed', color = 'grey')\n",
        "plt.axvline(best_epoch_loss, linestyle = 'dashed', color = 'blue', label = 'Best val loss: ep ' + str(best_epoch_loss))\n",
        "plt.axvline(best_epoch_acc, linestyle = 'dashed', color = 'green', label = 'Best val acc: ep ' + str(best_epoch_acc))\n",
        "plt.title(f\"Learning Rate vs Epochs: {CFG.scheduler}\", fontsize = 16, color = 'orange')\n",
        "plt.legend(frameon=False);"
      ]
    },
    {
      "cell_type": "markdown",
      "id": "56351f4d",
      "metadata": {
        "papermill": {
          "duration": 0.06079,
          "end_time": "2022-04-14T21:09:57.894602",
          "exception": false,
          "start_time": "2022-04-14T21:09:57.833812",
          "status": "completed"
        },
        "tags": [],
        "id": "56351f4d"
      },
      "source": [
        "# Inference"
      ]
    },
    {
      "cell_type": "code",
      "execution_count": null,
      "id": "1c52f176",
      "metadata": {
        "execution": {
          "iopub.execute_input": "2022-04-14T21:09:58.024289Z",
          "iopub.status.busy": "2022-04-14T21:09:58.022763Z",
          "iopub.status.idle": "2022-04-14T21:09:58.024791Z",
          "shell.execute_reply": "2022-04-14T21:09:58.025729Z",
          "shell.execute_reply.started": "2022-04-14T20:58:08.043748Z"
        },
        "papermill": {
          "duration": 0.072167,
          "end_time": "2022-04-14T21:09:58.025879",
          "exception": false,
          "start_time": "2022-04-14T21:09:57.953712",
          "status": "completed"
        },
        "tags": [],
        "id": "1c52f176"
      },
      "outputs": [],
      "source": [
        "def softmax(x):\n",
        "    return np.exp(x)/np.sum(np.exp(x), axis=1)[:, None]\n",
        "\n",
        "def inference(test_loader, model):\n",
        "    model.eval()\n",
        "\n",
        "    predictions = []\n",
        "\n",
        "    size = len(test_loader.dataset)\n",
        "    num_batches = len(test_loader)\n",
        "\n",
        "    model = DigitModel().to(device)\n",
        "\n",
        "    if CFG.save_best_loss: # load model with best validation loss\n",
        "      model.load_state_dict(torch.load(OUTPUT_PATH + f\"DigitModel_ep{best_epoch_loss}.pth\"))\n",
        "    else: # load model with best validation accuracy\n",
        "      model.load_state_dict(torch.load(OUTPUT_PATH + f\"DigitModel_ep{best_epoch_acc}.pth\"))\n",
        "\n",
        "    # disable gradients for inference\n",
        "    with torch.no_grad():\n",
        "      for batch, X in enumerate(test_loader):\n",
        "\n",
        "        ################################# inference #################################\n",
        "        start = time.time()\n",
        "        current = batch * len(X)\n",
        "\n",
        "        X = X.to(device)\n",
        "\n",
        "        # compute predictions\n",
        "        pred = model(X)\n",
        "        # softmax\n",
        "        y_pred = softmax(pred.detach().cpu().numpy()) # convert tensor to numpy and apply softmax\n",
        "        y_pred = np.argmax(y_pred, axis = 1) # take the indice of the max value (higher probability: predicted class)\n",
        "\n",
        "        # store results\n",
        "        predictions.append(y_pred)\n",
        "\n",
        "        # log\n",
        "        end = time.time()\n",
        "        time_delta = np.round(end - start, 5)\n",
        "\n",
        "        # if batch % (CFG.print_freq) == 0:\n",
        "        #   print(f\"Inference Batch: {current:>5d}/{size:>5d}: Elapsed Time: {time_delta} s\")\n",
        "\n",
        "    test_predictions = np.concatenate(predictions, axis = 0) # join sequence of arrays along axis 0\n",
        "    return test_predictions"
      ]
    },
    {
      "cell_type": "code",
      "execution_count": null,
      "id": "c2a4bccf",
      "metadata": {
        "execution": {
          "iopub.execute_input": "2022-04-14T21:09:58.149073Z",
          "iopub.status.busy": "2022-04-14T21:09:58.148053Z",
          "iopub.status.idle": "2022-04-14T21:09:58.217250Z",
          "shell.execute_reply": "2022-04-14T21:09:58.216691Z",
          "shell.execute_reply.started": "2022-04-14T20:58:08.058881Z"
        },
        "papermill": {
          "duration": 0.132654,
          "end_time": "2022-04-14T21:09:58.217386",
          "exception": false,
          "start_time": "2022-04-14T21:09:58.084732",
          "status": "completed"
        },
        "tags": [],
        "id": "c2a4bccf"
      },
      "outputs": [],
      "source": [
        "# instantiate Inference Dataset class (create inference Dataset)\n",
        "inference_dataset = DigitInferenceDataset(test, augmentations=None)\n",
        "\n",
        "# create Inference DataLoader object from Dataset class object\n",
        "inference_dataloader = DataLoader(inference_dataset,\n",
        "                                  batch_size = CFG.BATCH_SIZE,\n",
        "                                  shuffle = False)"
      ]
    },
    {
      "cell_type": "code",
      "execution_count": null,
      "id": "cc42bca4",
      "metadata": {
        "execution": {
          "iopub.execute_input": "2022-04-14T21:09:58.343381Z",
          "iopub.status.busy": "2022-04-14T21:09:58.342534Z",
          "iopub.status.idle": "2022-04-14T21:10:01.043662Z",
          "shell.execute_reply": "2022-04-14T21:10:01.044118Z",
          "shell.execute_reply.started": "2022-04-14T20:58:08.135198Z"
        },
        "papermill": {
          "duration": 2.766895,
          "end_time": "2022-04-14T21:10:01.044271",
          "exception": false,
          "start_time": "2022-04-14T21:09:58.277376",
          "status": "completed"
        },
        "tags": [],
        "id": "cc42bca4",
        "outputId": "f7eb4fcf-33e0-471a-e829-f0abdadbbce6"
      },
      "outputs": [
        {
          "name": "stdout",
          "output_type": "stream",
          "text": [
            "CPU times: user 2.57 s, sys: 125 ms, total: 2.7 s\n",
            "Wall time: 2.7 s\n"
          ]
        },
        {
          "data": {
            "text/plain": [
              "array([2, 0, 9, ..., 3, 9, 2])"
            ]
          },
          "execution_count": 29,
          "metadata": {},
          "output_type": "execute_result"
        }
      ],
      "source": [
        "%%time\n",
        "# run inference\n",
        "predictions = inference(inference_dataloader, model)\n",
        "predictions"
      ]
    },
    {
      "cell_type": "markdown",
      "id": "7501f359",
      "metadata": {
        "papermill": {
          "duration": 0.05967,
          "end_time": "2022-04-14T21:10:01.164456",
          "exception": false,
          "start_time": "2022-04-14T21:10:01.104786",
          "status": "completed"
        },
        "tags": [],
        "id": "7501f359"
      },
      "source": [
        "# Submission"
      ]
    },
    {
      "cell_type": "code",
      "execution_count": null,
      "id": "f22add64",
      "metadata": {
        "execution": {
          "iopub.execute_input": "2022-04-14T21:10:01.289356Z",
          "iopub.status.busy": "2022-04-14T21:10:01.288701Z",
          "iopub.status.idle": "2022-04-14T21:10:01.359476Z",
          "shell.execute_reply": "2022-04-14T21:10:01.358835Z",
          "shell.execute_reply.started": "2022-04-14T20:58:10.665413Z"
        },
        "papermill": {
          "duration": 0.134481,
          "end_time": "2022-04-14T21:10:01.359603",
          "exception": false,
          "start_time": "2022-04-14T21:10:01.225122",
          "status": "completed"
        },
        "tags": [],
        "id": "f22add64",
        "outputId": "02352ea2-db10-4c47-dc6d-20eadeef7429"
      },
      "outputs": [
        {
          "data": {
            "text/html": [
              "<div>\n",
              "<style scoped>\n",
              "    .dataframe tbody tr th:only-of-type {\n",
              "        vertical-align: middle;\n",
              "    }\n",
              "\n",
              "    .dataframe tbody tr th {\n",
              "        vertical-align: top;\n",
              "    }\n",
              "\n",
              "    .dataframe thead th {\n",
              "        text-align: right;\n",
              "    }\n",
              "</style>\n",
              "<table border=\"1\" class=\"dataframe\">\n",
              "  <thead>\n",
              "    <tr style=\"text-align: right;\">\n",
              "      <th></th>\n",
              "      <th>ImageId</th>\n",
              "      <th>Label</th>\n",
              "    </tr>\n",
              "  </thead>\n",
              "  <tbody>\n",
              "    <tr>\n",
              "      <th>0</th>\n",
              "      <td>1</td>\n",
              "      <td>2</td>\n",
              "    </tr>\n",
              "    <tr>\n",
              "      <th>1</th>\n",
              "      <td>2</td>\n",
              "      <td>0</td>\n",
              "    </tr>\n",
              "    <tr>\n",
              "      <th>2</th>\n",
              "      <td>3</td>\n",
              "      <td>9</td>\n",
              "    </tr>\n",
              "    <tr>\n",
              "      <th>3</th>\n",
              "      <td>4</td>\n",
              "      <td>0</td>\n",
              "    </tr>\n",
              "    <tr>\n",
              "      <th>4</th>\n",
              "      <td>5</td>\n",
              "      <td>3</td>\n",
              "    </tr>\n",
              "  </tbody>\n",
              "</table>\n",
              "</div>"
            ],
            "text/plain": [
              "   ImageId  Label\n",
              "0        1      2\n",
              "1        2      0\n",
              "2        3      9\n",
              "3        4      0\n",
              "4        5      3"
            ]
          },
          "execution_count": 30,
          "metadata": {},
          "output_type": "execute_result"
        }
      ],
      "source": [
        "submission = pd.read_csv(INPUT_PATH + \"sample_submission.csv\")\n",
        "submission[\"Label\"] = predictions\n",
        "\n",
        "submission.to_csv(OUTPUT_PATH + 'submission.csv', index = False)\n",
        "submission.head()"
      ]
    },
    {
      "cell_type": "markdown",
      "id": "468cc55d",
      "metadata": {
        "papermill": {
          "duration": 0.060143,
          "end_time": "2022-04-14T21:10:01.480426",
          "exception": false,
          "start_time": "2022-04-14T21:10:01.420283",
          "status": "completed"
        },
        "tags": [],
        "id": "468cc55d"
      },
      "source": [
        "# Check predictions"
      ]
    },
    {
      "cell_type": "code",
      "execution_count": null,
      "id": "23e92633",
      "metadata": {
        "execution": {
          "iopub.execute_input": "2022-04-14T21:10:01.609577Z",
          "iopub.status.busy": "2022-04-14T21:10:01.608770Z",
          "iopub.status.idle": "2022-04-14T21:10:02.467465Z",
          "shell.execute_reply": "2022-04-14T21:10:02.467022Z",
          "shell.execute_reply.started": "2022-04-14T20:58:10.738824Z"
        },
        "papermill": {
          "duration": 0.926449,
          "end_time": "2022-04-14T21:10:02.467588",
          "exception": false,
          "start_time": "2022-04-14T21:10:01.541139",
          "status": "completed"
        },
        "tags": [],
        "id": "23e92633",
        "outputId": "6c6e7df7-3961-443c-c129-04ab96c8a1f3"
      },
      "outputs": [
        {
          "data": {
            "image/png": "[encoded data removed]",
            "text/plain": [
              "<Figure size 864x864 with 20 Axes>"
            ]
          },
          "metadata": {
            "needs_background": "light"
          },
          "output_type": "display_data"
        }
      ],
      "source": [
        "# check some predictions\n",
        "\n",
        "fig = plt.figure(figsize = (12, 12))\n",
        "fig.suptitle('Visualizing Predictions', fontsize = 24)\n",
        "\n",
        "# define a range of predictions to plot\n",
        "begin = 130\n",
        "end = begin + 20\n",
        "\n",
        "for i in range(begin, end):\n",
        "\n",
        "  img = np.array(test.iloc[i, :]).reshape(1, 1, 28, 28) # reshape to image dimensions\n",
        "  plt.subplot(4, 5, i + 1 - begin) # 4 rows and 5 columns plot\n",
        "  label = str(submission.loc[i, 'Label'])\n",
        "  plt.title(\"Predicted label: \" + label, color=\"red\") # write label in each image title\n",
        "  plt.imshow(np.squeeze(img), cmap='gray') # plot image\n",
        "  plt.axis('off')"
      ]
    }
  ],
  "metadata": {
    "kernelspec": {
      "display_name": "Python 3",
      "name": "python3"
    },
    "language_info": {
      "codemirror_mode": {
        "name": "ipython",
        "version": 3
      },
      "file_extension": ".py",
      "mimetype": "text/x-python",
      "name": "python",
      "nbconvert_exporter": "python",
      "pygments_lexer": "ipython3",
      "version": "3.11.3"
    },
    "papermill": {
      "default_parameters": {},
      "duration": 624.69215,
      "end_time": "2022-04-14T21:10:06.214712",
      "environment_variables": {},
      "exception": null,
      "input_path": "__notebook__.ipynb",
      "output_path": "__notebook__.ipynb",
      "parameters": {},
      "start_time": "2022-04-14T20:59:41.522562",
      "version": "2.3.3"
    },
    "colab": {
      "provenance": [],
      "toc_visible": true,
      "gpuType": "T4"
    },
    "accelerator": "GPU"
  },
  "nbformat": 4,
  "nbformat_minor": 5
}