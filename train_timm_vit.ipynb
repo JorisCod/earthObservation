{
  "cells": [
    {
      "cell_type": "markdown",
      "id": "aa9ff12c",
      "metadata": {
        "papermill": {
          "duration": 0.036592,
          "end_time": "2022-04-14T20:59:49.299674",
          "exception": false,
          "start_time": "2022-04-14T20:59:49.263082",
          "status": "completed"
        },
        "tags": [],
        "id": "aa9ff12c"
      },
      "source": [
        "# Fine-Tuning Vision Transformers for Image Classification through timm\n",
        "\n",
        "The goal of this notebook is to create an image classifier for sattelite images, using timm (and pytorch) on the EUROSAT dataset.\n",
        "We will fine-tune a Vision Transformer (ViT), as research shows this is the best appraoch for multi-class classification [1].\n",
        "\n",
        "Adapted from: https://www.kaggle.com/code/hinepo/transfer-learning-with-timm-models-and-pytorch"
      ]
    },
    {
      "cell_type": "markdown",
      "id": "2de3f802",
      "metadata": {
        "papermill": {
          "duration": 0.036836,
          "end_time": "2022-04-14T20:59:49.387444",
          "exception": false,
          "start_time": "2022-04-14T20:59:49.350608",
          "status": "completed"
        },
        "tags": [],
        "id": "2de3f802"
      },
      "source": [
        "# Installs\n",
        "\n",
        "Preprend ! to run in colab\n",
        "\n",
        "Might use VSCODE_PID to check for where execution takes place"
      ]
    },
    {
      "cell_type": "code",
      "execution_count": null,
      "id": "031ae59e",
      "metadata": {
        "execution": {
          "iopub.execute_input": "2022-04-14T20:59:49.456339Z",
          "iopub.status.busy": "2022-04-14T20:59:49.455580Z",
          "iopub.status.idle": "2022-04-14T20:59:58.695204Z",
          "shell.execute_reply": "2022-04-14T20:59:58.694568Z",
          "shell.execute_reply.started": "2022-04-14T20:47:55.902818Z"
        },
        "papermill": {
          "duration": 9.27873,
          "end_time": "2022-04-14T20:59:58.695364",
          "exception": false,
          "start_time": "2022-04-14T20:59:49.416634",
          "status": "completed"
        },
        "tags": [],
        "id": "031ae59e"
      },
      "outputs": [],
      "source": [
        "!pip install timm torchvision albumentations"
      ]
    },
    {
      "cell_type": "code",
      "source": [
        "!pip install torchmetrics pytorch_accelerated"
      ],
      "metadata": {
        "id": "fZRX6sAIgH3K"
      },
      "id": "fZRX6sAIgH3K",
      "execution_count": null,
      "outputs": []
    },
    {
      "cell_type": "markdown",
      "id": "e0b9fd4d",
      "metadata": {
        "papermill": {
          "duration": 0.029081,
          "end_time": "2022-04-14T20:59:58.755115",
          "exception": false,
          "start_time": "2022-04-14T20:59:58.726034",
          "status": "completed"
        },
        "tags": [],
        "id": "e0b9fd4d"
      },
      "source": [
        "# Importing"
      ]
    },
    {
      "cell_type": "code",
      "execution_count": 4,
      "id": "86fd523b",
      "metadata": {
        "execution": {
          "iopub.execute_input": "2022-04-14T20:59:58.820349Z",
          "iopub.status.busy": "2022-04-14T20:59:58.817765Z",
          "iopub.status.idle": "2022-04-14T21:00:07.140612Z",
          "shell.execute_reply": "2022-04-14T21:00:07.140119Z",
          "shell.execute_reply.started": "2022-04-14T20:48:06.000613Z"
        },
        "papermill": {
          "duration": 8.356151,
          "end_time": "2022-04-14T21:00:07.140744",
          "exception": false,
          "start_time": "2022-04-14T20:59:58.784593",
          "status": "completed"
        },
        "tags": [],
        "id": "86fd523b"
      },
      "outputs": [],
      "source": [
        "import numpy as np\n",
        "import matplotlib.pyplot as plt\n",
        "\n",
        "import time\n",
        "import random # for torch seed\n",
        "import os # for torch seed\n",
        "\n",
        "from sklearn.model_selection import train_test_split\n",
        "\n",
        "import torch\n",
        "from torch import nn\n",
        "from torch.utils.data import Dataset, DataLoader\n",
        "from torch.optim import Adam, AdamW, RMSprop # optmizers\n",
        "from torch.optim.lr_scheduler import CosineAnnealingLR, ReduceLROnPlateau # Learning rate schedulers\n",
        "\n",
        "from PIL import Image\n",
        "\n",
        "import albumentations as A\n",
        "# from albumentations.pytorch import ToTensorV2\n",
        "\n",
        "import timm\n",
        "from timm.data import resolve_data_config\n",
        "from timm.data.transforms_factory import create_transform\n",
        "\n",
        "import torchvision"
      ]
    },
    {
      "cell_type": "markdown",
      "id": "c28c0675",
      "metadata": {
        "papermill": {
          "duration": 0.031089,
          "end_time": "2022-04-14T21:00:12.517190",
          "exception": false,
          "start_time": "2022-04-14T21:00:12.486101",
          "status": "completed"
        },
        "tags": [],
        "id": "c28c0675"
      },
      "source": [
        "# CFG\n",
        "\n",
        "This class enables easy configuration to simulate and understand results.\n",
        "\n",
        "You can tweak some parameters and see how they impact on the metrics, plots, and predictions."
      ]
    },
    {
      "cell_type": "code",
      "execution_count": 5,
      "id": "6b4b183c",
      "metadata": {
        "execution": {
          "iopub.execute_input": "2022-04-14T21:00:12.634246Z",
          "iopub.status.busy": "2022-04-14T21:00:12.633308Z",
          "iopub.status.idle": "2022-04-14T21:00:12.637488Z",
          "shell.execute_reply": "2022-04-14T21:00:12.637063Z",
          "shell.execute_reply.started": "2022-04-14T20:48:18.776935Z"
        },
        "papermill": {
          "duration": 0.088908,
          "end_time": "2022-04-14T21:00:12.637599",
          "exception": false,
          "start_time": "2022-04-14T21:00:12.548691",
          "status": "completed"
        },
        "tags": [],
        "id": "6b4b183c"
      },
      "outputs": [],
      "source": [
        "class CFG:\n",
        "  OUTPUT_PATH = './'\n",
        "\n",
        "  ### split train and validation sets\n",
        "  split_fraction = 0.8\n",
        "\n",
        "  ### model\n",
        "  model_name = 'vit_tiny_patch16_224' # 'resnet34', 'resnet200d', 'efficientnet_b1_pruned', 'efficientnetv2_m', efficientnet_b7 ...\n",
        "\n",
        "  ### training\n",
        "  print_freq = 100\n",
        "  BATCH_SIZE = 16\n",
        "  N_EPOCHS = 10\n",
        "\n",
        "  ### set only one to True\n",
        "  save_best_loss = False\n",
        "  save_best_accuracy = True\n",
        "\n",
        "  ### optimizer\n",
        "  # optimizer = 'adam'\n",
        "  optimizer = 'adamw'\n",
        "  # optimizer = 'rmsprop'\n",
        "  LEARNING_RATE = 2e-4\n",
        "  weight_decay = 0.1 # for adamw\n",
        "  l2_penalty = 0.01 # for RMSprop\n",
        "  rms_momentum = 0 # for RMSprop\n",
        "\n",
        "  ### learning rate scheduler (LRS)\n",
        "  scheduler = 'ReduceLROnPlateau'\n",
        "  # scheduler = 'CosineAnnealingLR'\n",
        "  plateau_factor = 0.5\n",
        "  plateau_patience = 3\n",
        "  cosine_T_max = 4\n",
        "  cosine_eta_min = 1e-8\n",
        "  verbose = True\n",
        "\n",
        "  ### train and validation DataLoaders\n",
        "  shuffle = False\n",
        "\n",
        "  ### albumentations\n",
        "  probability = 0.6\n",
        "\n",
        "  random_seed = 42"
      ]
    },
    {
      "cell_type": "code",
      "execution_count": 6,
      "id": "fba4f9e1",
      "metadata": {
        "execution": {
          "iopub.execute_input": "2022-04-14T21:00:12.928956Z",
          "iopub.status.busy": "2022-04-14T21:00:12.928008Z",
          "iopub.status.idle": "2022-04-14T21:00:12.934639Z",
          "shell.execute_reply": "2022-04-14T21:00:12.936418Z",
          "shell.execute_reply.started": "2022-04-14T20:48:18.812821Z"
        },
        "papermill": {
          "duration": 0.11945,
          "end_time": "2022-04-14T21:00:12.936827",
          "exception": false,
          "start_time": "2022-04-14T21:00:12.817377",
          "status": "completed"
        },
        "tags": [],
        "colab": {
          "base_uri": "https://localhost:8080/"
        },
        "id": "fba4f9e1",
        "outputId": "204f4f59-6041-479d-9a7d-3ed17f5a921b"
      },
      "outputs": [
        {
          "output_type": "stream",
          "name": "stdout",
          "text": [
            "cuda\n"
          ]
        }
      ],
      "source": [
        "# detect and define device\n",
        "device = torch.device('cuda' if torch.cuda.is_available() else 'cpu')\n",
        "\n",
        "print(device)"
      ]
    },
    {
      "cell_type": "code",
      "execution_count": 7,
      "id": "3e8173ee",
      "metadata": {
        "execution": {
          "iopub.execute_input": "2022-04-14T21:00:13.075486Z",
          "iopub.status.busy": "2022-04-14T21:00:13.072791Z",
          "iopub.status.idle": "2022-04-14T21:00:13.078689Z",
          "shell.execute_reply": "2022-04-14T21:00:13.079576Z",
          "shell.execute_reply.started": "2022-04-14T20:48:18.872013Z"
        },
        "papermill": {
          "duration": 0.076693,
          "end_time": "2022-04-14T21:00:13.079959",
          "exception": false,
          "start_time": "2022-04-14T21:00:13.003266",
          "status": "completed"
        },
        "tags": [],
        "id": "3e8173ee"
      },
      "outputs": [],
      "source": [
        "# for reproducibility\n",
        "def seed_torch(seed):\n",
        "    random.seed(seed)\n",
        "    os.environ['PYTHONHASHSEED'] = str(seed)\n",
        "    np.random.seed(seed)\n",
        "    torch.manual_seed(seed)\n",
        "    torch.cuda.manual_seed(seed)\n",
        "    torch.backends.cudnn.deterministic = True\n",
        "\n",
        "seed_torch(seed = CFG.random_seed)"
      ]
    },
    {
      "cell_type": "markdown",
      "source": [
        "# Transfer Learning: timm"
      ],
      "metadata": {
        "id": "RAhKF0xchD5h"
      },
      "id": "RAhKF0xchD5h"
    },
    {
      "cell_type": "code",
      "source": [
        "### check model structure\n",
        "model = timm.create_model(CFG.model_name, pretrained = True)"
      ],
      "metadata": {
        "id": "TA3u_ckOhE67",
        "colab": {
          "base_uri": "https://localhost:8080/",
          "height": 49,
          "referenced_widgets": [
            "6ba5f15c3c2845cc8a06628f9c98823f",
            "341e0a1a4ed4486d8a49b66e0b85d46b",
            "577a23a1773942bda469dde52491a60c",
            "917b101f492842c09f5978bd804069fa",
            "5e9135f578f242a6aacdfb4b83dec544",
            "b50e591e432e465294a511b32e5735f0",
            "65019bb917e04438a6c1ebdc97a66317",
            "d906822d407844e5af8646db67b59d1b",
            "c45d253e4c914e26b6d641b3904dca8c",
            "e338470703fa4ba39e0feaa49b3a587c",
            "6b5098145f4e4335abbf0c195b0d6025"
          ]
        },
        "outputId": "a1a61b7e-20b9-45d2-a33f-3911a891870d"
      },
      "id": "TA3u_ckOhE67",
      "execution_count": 8,
      "outputs": [
        {
          "output_type": "display_data",
          "data": {
            "text/plain": [
              "Downloading model.safetensors:   0%|          | 0.00/22.9M [00:00<?, ?B/s]"
            ],
            "application/vnd.jupyter.widget-view+json": {
              "version_major": 2,
              "version_minor": 0,
              "model_id": "6ba5f15c3c2845cc8a06628f9c98823f"
            }
          },
          "metadata": {}
        }
      ]
    },
    {
      "cell_type": "code",
      "source": [
        "# Define a transformation on the dataset to match the resolution of the model\n",
        "transform_std = create_transform(**resolve_data_config(model.pretrained_cfg, model=model))\n",
        "print(transform_std)"
      ],
      "metadata": {
        "colab": {
          "base_uri": "https://localhost:8080/"
        },
        "id": "R9yU9FH4hFCg",
        "outputId": "f7b43f3f-010e-4c25-e183-6ae8273a3550"
      },
      "id": "R9yU9FH4hFCg",
      "execution_count": 9,
      "outputs": [
        {
          "output_type": "stream",
          "name": "stdout",
          "text": [
            "Compose(\n",
            "    Resize(size=248, interpolation=bicubic, max_size=None, antialias=warn)\n",
            "    CenterCrop(size=(224, 224))\n",
            "    ToTensor()\n",
            "    Normalize(mean=tensor([0.5000, 0.5000, 0.5000]), std=tensor([0.5000, 0.5000, 0.5000]))\n",
            ")\n"
          ]
        }
      ]
    },
    {
      "cell_type": "markdown",
      "id": "b801f9e7",
      "metadata": {
        "papermill": {
          "duration": 0.032804,
          "end_time": "2022-04-14T21:00:13.607749",
          "exception": false,
          "start_time": "2022-04-14T21:00:13.574945",
          "status": "completed"
        },
        "tags": [],
        "id": "b801f9e7"
      },
      "source": [
        "# Data"
      ]
    },
    {
      "cell_type": "markdown",
      "source": [
        "## Dataset"
      ],
      "metadata": {
        "id": "4ZucmO45C_6o"
      },
      "id": "4ZucmO45C_6o"
    },
    {
      "cell_type": "code",
      "execution_count": 10,
      "id": "565dc236",
      "metadata": {
        "id": "565dc236",
        "colab": {
          "base_uri": "https://localhost:8080/"
        },
        "outputId": "ce6f6e1a-aeb9-47d5-c839-cd6075ecca36"
      },
      "outputs": [
        {
          "output_type": "stream",
          "name": "stdout",
          "text": [
            "Downloading https://madm.dfki.de/files/sentinel/EuroSAT.zip to ./eurosat/EuroSAT.zip\n"
          ]
        },
        {
          "output_type": "stream",
          "name": "stderr",
          "text": [
            "100%|██████████| 94280567/94280567 [00:05<00:00, 16796345.87it/s]\n"
          ]
        },
        {
          "output_type": "stream",
          "name": "stdout",
          "text": [
            "Extracting ./eurosat/EuroSAT.zip to ./eurosat\n"
          ]
        }
      ],
      "source": [
        "# Turning off necessary in Google Colab: https://github.com/pytorch/vision/issues/5039\n",
        "import ssl\n",
        "ssl._create_default_https_context = ssl._create_unverified_context\n",
        "\n",
        "# https://pytorch.org/vision/stable/generated/torchvision.datasets.EuroSAT.html\n",
        "dataset = torchvision.datasets.EuroSAT(\"./\", download = True)"
      ]
    },
    {
      "cell_type": "code",
      "execution_count": 11,
      "id": "5b1d6e18",
      "metadata": {
        "colab": {
          "base_uri": "https://localhost:8080/"
        },
        "id": "5b1d6e18",
        "outputId": "72e9b885-a77d-48bf-e854-fa5826c87654"
      },
      "outputs": [
        {
          "output_type": "execute_result",
          "data": {
            "text/plain": [
              "27000"
            ]
          },
          "metadata": {},
          "execution_count": 11
        }
      ],
      "source": [
        "len(dataset)"
      ]
    },
    {
      "cell_type": "code",
      "execution_count": 12,
      "id": "4e8390fe",
      "metadata": {
        "colab": {
          "base_uri": "https://localhost:8080/"
        },
        "id": "4e8390fe",
        "outputId": "0bd8fe6a-1efb-4c33-c85b-e08352a809cd"
      },
      "outputs": [
        {
          "output_type": "execute_result",
          "data": {
            "text/plain": [
              "['AnnualCrop',\n",
              " 'Forest',\n",
              " 'HerbaceousVegetation',\n",
              " 'Highway',\n",
              " 'Industrial',\n",
              " 'Pasture',\n",
              " 'PermanentCrop',\n",
              " 'Residential',\n",
              " 'River',\n",
              " 'SeaLake']"
            ]
          },
          "metadata": {},
          "execution_count": 12
        }
      ],
      "source": [
        "# Classes in train dataset\n",
        "dataset.classes"
      ]
    },
    {
      "cell_type": "code",
      "source": [
        "# Adapt classificaiton head of model\n",
        "num_classes = len(dataset.classes)\n",
        "model.reset_classifier(num_classes)\n",
        "# print last layer\n",
        "model.get_classifier()"
      ],
      "metadata": {
        "colab": {
          "base_uri": "https://localhost:8080/"
        },
        "id": "Zcn05h2VABI8",
        "outputId": "a00a2221-027f-4f1d-e4ce-1a8d19508e2b"
      },
      "id": "Zcn05h2VABI8",
      "execution_count": 13,
      "outputs": [
        {
          "output_type": "execute_result",
          "data": {
            "text/plain": [
              "Linear(in_features=192, out_features=10, bias=True)"
            ]
          },
          "metadata": {},
          "execution_count": 13
        }
      ]
    },
    {
      "cell_type": "code",
      "execution_count": 14,
      "id": "1c5662c9",
      "metadata": {
        "colab": {
          "base_uri": "https://localhost:8080/"
        },
        "id": "1c5662c9",
        "outputId": "01537fda-3af9-417e-c671-143992f8cce9"
      },
      "outputs": [
        {
          "output_type": "execute_result",
          "data": {
            "text/plain": [
              "[64, 64]"
            ]
          },
          "metadata": {},
          "execution_count": 14
        }
      ],
      "source": [
        "# Image shape\n",
        "image = Image.open(dataset.imgs[0][0]).convert('RGB')\n",
        "torchvision.transforms.functional.get_image_size(image)"
      ]
    },
    {
      "cell_type": "markdown",
      "id": "25896fcf",
      "metadata": {
        "id": "25896fcf"
      },
      "source": [
        "## Split"
      ]
    },
    {
      "cell_type": "code",
      "execution_count": 15,
      "id": "b3008f6c",
      "metadata": {
        "colab": {
          "base_uri": "https://localhost:8080/"
        },
        "id": "b3008f6c",
        "outputId": "bb474a7b-9e4a-4ac0-dca3-0e417cddf478"
      },
      "outputs": [
        {
          "output_type": "execute_result",
          "data": {
            "text/plain": [
              "(21600, 5400)"
            ]
          },
          "metadata": {},
          "execution_count": 15
        }
      ],
      "source": [
        "### random split\n",
        "\n",
        "# sklearn's train_test_split runs out of memory on GC.\n",
        "#train_ds, valid_ds = train_test_split(dataset, test_size=(1-CFG.split_fraction), random_state=CFG.random_seed)\n",
        "\n",
        "train_len = int(CFG.split_fraction * len(dataset))\n",
        "lengths = [train_len , len(dataset) - train_len]\n",
        "train_ds, valid_ds = torch.utils.data.random_split(dataset, lengths)\n",
        "\n",
        "len(train_ds), len(valid_ds)"
      ]
    },
    {
      "cell_type": "code",
      "execution_count": 16,
      "id": "21b0d143",
      "metadata": {
        "colab": {
          "base_uri": "https://localhost:8080/"
        },
        "id": "21b0d143",
        "outputId": "95365e50-5cf0-4f12-bf1e-d197245f6317"
      },
      "outputs": [
        {
          "output_type": "execute_result",
          "data": {
            "text/plain": [
              "(64, 64)"
            ]
          },
          "metadata": {},
          "execution_count": 16
        }
      ],
      "source": [
        "# Check on image size\n",
        "# Still a PIL image as no transformations have been applied\n",
        "(train_ds[0][0].width, train_ds[0][0].height)"
      ]
    },
    {
      "cell_type": "markdown",
      "source": [
        "## Data Augmentation"
      ],
      "metadata": {
        "id": "iN2WEKaoTGQK"
      },
      "id": "iN2WEKaoTGQK"
    },
    {
      "cell_type": "code",
      "source": [
        "train_transform = timm.data.create_transform(\n",
        "    **resolve_data_config(model.pretrained_cfg, model=model),\n",
        "    is_training=True,\n",
        "    auto_augment=\"rand-m7-mstd0.5-inc1\",\n",
        ")\n",
        "print(train_transform)"
      ],
      "metadata": {
        "colab": {
          "base_uri": "https://localhost:8080/"
        },
        "id": "dNrlMdf6OYOX",
        "outputId": "e0646b9d-9d34-4cfb-953c-07e9f4768018"
      },
      "id": "dNrlMdf6OYOX",
      "execution_count": 17,
      "outputs": [
        {
          "output_type": "stream",
          "name": "stdout",
          "text": [
            "Compose(\n",
            "    RandomResizedCropAndInterpolation(size=(224, 224), scale=(0.08, 1.0), ratio=(0.75, 1.3333), interpolation=bicubic)\n",
            "    RandomHorizontalFlip(p=0.5)\n",
            "    RandAugment(n=2, ops=\n",
            "\tAugmentOp(name=AutoContrast, p=0.5, m=7, mstd=0.5)\n",
            "\tAugmentOp(name=Equalize, p=0.5, m=7, mstd=0.5)\n",
            "\tAugmentOp(name=Invert, p=0.5, m=7, mstd=0.5)\n",
            "\tAugmentOp(name=Rotate, p=0.5, m=7, mstd=0.5)\n",
            "\tAugmentOp(name=PosterizeIncreasing, p=0.5, m=7, mstd=0.5)\n",
            "\tAugmentOp(name=SolarizeIncreasing, p=0.5, m=7, mstd=0.5)\n",
            "\tAugmentOp(name=SolarizeAdd, p=0.5, m=7, mstd=0.5)\n",
            "\tAugmentOp(name=ColorIncreasing, p=0.5, m=7, mstd=0.5)\n",
            "\tAugmentOp(name=ContrastIncreasing, p=0.5, m=7, mstd=0.5)\n",
            "\tAugmentOp(name=BrightnessIncreasing, p=0.5, m=7, mstd=0.5)\n",
            "\tAugmentOp(name=SharpnessIncreasing, p=0.5, m=7, mstd=0.5)\n",
            "\tAugmentOp(name=ShearX, p=0.5, m=7, mstd=0.5)\n",
            "\tAugmentOp(name=ShearY, p=0.5, m=7, mstd=0.5)\n",
            "\tAugmentOp(name=TranslateXRel, p=0.5, m=7, mstd=0.5)\n",
            "\tAugmentOp(name=TranslateYRel, p=0.5, m=7, mstd=0.5))\n",
            "    ToTensor()\n",
            "    Normalize(mean=tensor([0.5000, 0.5000, 0.5000]), std=tensor([0.5000, 0.5000, 0.5000]))\n",
            ")\n"
          ]
        }
      ]
    },
    {
      "cell_type": "code",
      "source": [
        "val_transform = timm.data.create_transform(**resolve_data_config(model.pretrained_cfg, model=model))\n",
        "print(val_transform)"
      ],
      "metadata": {
        "colab": {
          "base_uri": "https://localhost:8080/"
        },
        "id": "2r3-J2QtSEx7",
        "outputId": "9b4f6781-99c8-4408-fbb5-84e0515e0db0"
      },
      "id": "2r3-J2QtSEx7",
      "execution_count": 18,
      "outputs": [
        {
          "output_type": "stream",
          "name": "stdout",
          "text": [
            "Compose(\n",
            "    Resize(size=248, interpolation=bicubic, max_size=None, antialias=warn)\n",
            "    CenterCrop(size=(224, 224))\n",
            "    ToTensor()\n",
            "    Normalize(mean=tensor([0.5000, 0.5000, 0.5000]), std=tensor([0.5000, 0.5000, 0.5000]))\n",
            ")\n"
          ]
        }
      ]
    },
    {
      "cell_type": "code",
      "source": [
        "# Apply seprate transformation to each subset\n",
        "# Source: https://discuss.pytorch.org/t/torch-utils-data-dataset-random-split/32209/4\n",
        "class MyDataset(Dataset):\n",
        "    def __init__(self, subset, transform=None):\n",
        "        self.subset = subset\n",
        "        self.transform = transform\n",
        "\n",
        "    def __getitem__(self, index):\n",
        "        x, y = self.subset[index]\n",
        "        if self.transform:\n",
        "            x = self.transform(x)\n",
        "        return x, y\n",
        "\n",
        "    def __len__(self):\n",
        "        return len(self.subset)\n",
        "\n",
        "\n",
        "train_ds = MyDataset(train_ds, transform=train_transform)\n",
        "valid_ds = MyDataset(valid_ds, transform=val_transform)"
      ],
      "metadata": {
        "id": "L-cg9Yf2Q4CW"
      },
      "id": "L-cg9Yf2Q4CW",
      "execution_count": 19,
      "outputs": []
    },
    {
      "cell_type": "markdown",
      "source": [
        "# Training"
      ],
      "metadata": {
        "id": "dPunAeJ-DHqt"
      },
      "id": "dPunAeJ-DHqt"
    },
    {
      "cell_type": "markdown",
      "id": "54f49079",
      "metadata": {
        "papermill": {
          "duration": 0.034445,
          "end_time": "2022-04-14T21:00:24.469037",
          "exception": false,
          "start_time": "2022-04-14T21:00:24.434592",
          "status": "completed"
        },
        "tags": [],
        "id": "54f49079"
      },
      "source": [
        "## Optimizer\n",
        "\n",
        "Function to get the optimizer to be used (can be tuned in CFG class)."
      ]
    },
    {
      "cell_type": "code",
      "execution_count": 20,
      "id": "1a003a14",
      "metadata": {
        "execution": {
          "iopub.execute_input": "2022-04-14T21:00:24.545397Z",
          "iopub.status.busy": "2022-04-14T21:00:24.544671Z",
          "iopub.status.idle": "2022-04-14T21:00:24.547204Z",
          "shell.execute_reply": "2022-04-14T21:00:24.546750Z",
          "shell.execute_reply.started": "2022-04-14T20:48:26.366259Z"
        },
        "papermill": {
          "duration": 0.043266,
          "end_time": "2022-04-14T21:00:24.547316",
          "exception": false,
          "start_time": "2022-04-14T21:00:24.504050",
          "status": "completed"
        },
        "tags": [],
        "id": "1a003a14"
      },
      "outputs": [],
      "source": [
        "def get_optimizer(lr = CFG.LEARNING_RATE):\n",
        "\n",
        "  if CFG.optimizer == 'adam':\n",
        "      optimizer = Adam(model.parameters(), lr=lr, weight_decay = CFG.weight_decay, amsgrad = False)\n",
        "\n",
        "  elif CFG.optimizer == 'adamw':\n",
        "      optimizer = AdamW(model.parameters(), lr = lr, weight_decay = CFG.weight_decay)\n",
        "\n",
        "  elif CFG.optimizer == 'rmsprop':\n",
        "      optimizer = RMSprop(model.parameters(), lr = lr, weight_decay = CFG.l2_penalty, momentum = CFG.rms_momentum)\n",
        "\n",
        "  else:\n",
        "      print('Optimizer is not defined')\n",
        "\n",
        "  return optimizer"
      ]
    },
    {
      "cell_type": "markdown",
      "id": "581cac6e",
      "metadata": {
        "papermill": {
          "duration": 0.034281,
          "end_time": "2022-04-14T21:00:24.616088",
          "exception": false,
          "start_time": "2022-04-14T21:00:24.581807",
          "status": "completed"
        },
        "tags": [],
        "id": "581cac6e"
      },
      "source": [
        "## LR Scheduler"
      ]
    },
    {
      "cell_type": "code",
      "execution_count": 21,
      "id": "2748843f",
      "metadata": {
        "execution": {
          "iopub.execute_input": "2022-04-14T21:00:24.691830Z",
          "iopub.status.busy": "2022-04-14T21:00:24.690303Z",
          "iopub.status.idle": "2022-04-14T21:00:24.692438Z",
          "shell.execute_reply": "2022-04-14T21:00:24.692828Z",
          "shell.execute_reply.started": "2022-04-14T20:48:26.374935Z"
        },
        "papermill": {
          "duration": 0.042369,
          "end_time": "2022-04-14T21:00:24.692976",
          "exception": false,
          "start_time": "2022-04-14T21:00:24.650607",
          "status": "completed"
        },
        "tags": [],
        "id": "2748843f"
      },
      "outputs": [],
      "source": [
        "def get_scheduler(optimizer):\n",
        "\n",
        "  if CFG.scheduler=='ReduceLROnPlateau':\n",
        "      scheduler = ReduceLROnPlateau(optimizer, mode='max', factor = CFG.plateau_factor, patience = CFG.plateau_patience, verbose = CFG.verbose)\n",
        "\n",
        "  elif CFG.scheduler=='CosineAnnealingLR':\n",
        "      scheduler = CosineAnnealingLR(optimizer, T_max = CFG.cosine_T_max, eta_min = CFG.cosine_eta_min)\n",
        "\n",
        "  else:\n",
        "      print('LR Scheduler is not defined')\n",
        "\n",
        "  return scheduler"
      ]
    },
    {
      "cell_type": "markdown",
      "id": "eebfbb0c",
      "metadata": {
        "papermill": {
          "duration": 0.03416,
          "end_time": "2022-04-14T21:00:24.761561",
          "exception": false,
          "start_time": "2022-04-14T21:00:24.727401",
          "status": "completed"
        },
        "tags": [],
        "id": "eebfbb0c"
      },
      "source": [
        "## Train function"
      ]
    },
    {
      "cell_type": "code",
      "execution_count": 22,
      "id": "0789dbf3",
      "metadata": {
        "execution": {
          "iopub.execute_input": "2022-04-14T21:00:24.842061Z",
          "iopub.status.busy": "2022-04-14T21:00:24.840464Z",
          "iopub.status.idle": "2022-04-14T21:00:24.842614Z",
          "shell.execute_reply": "2022-04-14T21:00:24.843045Z",
          "shell.execute_reply.started": "2022-04-14T20:48:26.387360Z"
        },
        "papermill": {
          "duration": 0.047135,
          "end_time": "2022-04-14T21:00:24.843177",
          "exception": false,
          "start_time": "2022-04-14T21:00:24.796042",
          "status": "completed"
        },
        "tags": [],
        "id": "0789dbf3"
      },
      "outputs": [],
      "source": [
        "def train_fn(train_loader, model, criterion, optmizer, device):\n",
        "  # switch to train mode\n",
        "  model.train()\n",
        "\n",
        "\n",
        "  size = len(train_loader.dataset)\n",
        "  num_batches = len(train_loader)\n",
        "\n",
        "  loss, correct = 0, 0\n",
        "\n",
        "  ################################# train #################################\n",
        "\n",
        "  for batch, (X, y) in enumerate(train_loader):\n",
        "\n",
        "    start = time.time()\n",
        "\n",
        "    device = torch.device(device)\n",
        "    X, y = X.to(device), y.to(device)\n",
        "\n",
        "    # compute predictions and loss\n",
        "    optimizer.zero_grad()\n",
        "    pred = model(X)\n",
        "    loss = criterion(pred, y.long().squeeze())\n",
        "    current = batch * len(X)\n",
        "\n",
        "    # Backpropagation: only in train function, not done in validation function\n",
        "    loss.backward()\n",
        "    optimizer.step()\n",
        "\n",
        "    # sum correct predictions\n",
        "    y_pred, y_true = torch.argmax(pred, axis=1), y.long().squeeze()\n",
        "    correct += (y_pred == y_true).type(torch.float).sum().item()\n",
        "\n",
        "    end = time.time()\n",
        "    time_delta = np.round(end - start, 3)\n",
        "\n",
        "    # log\n",
        "    loss, current = np.round(loss.item(), 5), batch * len(X)\n",
        "    # if batch % (CFG.print_freq) == 0:\n",
        "    #   print(f\"Train Batch: {current:>5d}/{size:>5d}: loss: {loss:>5f} Elapsed Time: {time_delta} s\")\n",
        "\n",
        "  # metrics: calculate accuracy and loss for epoch (all batches)\n",
        "  correct /= size # epoch accuracy\n",
        "  loss /= num_batches # epoch loss\n",
        "\n",
        "  print(f\"Train: Accuracy: {(100*correct):>0.2f}%, Avg loss: {loss:>5f} \\n\")\n",
        "\n",
        "  return loss, correct"
      ]
    },
    {
      "cell_type": "markdown",
      "id": "0b1c6e71",
      "metadata": {
        "papermill": {
          "duration": 0.034763,
          "end_time": "2022-04-14T21:00:24.912827",
          "exception": false,
          "start_time": "2022-04-14T21:00:24.878064",
          "status": "completed"
        },
        "tags": [],
        "id": "0b1c6e71"
      },
      "source": [
        "## Validation function\n",
        "\n",
        "Use it when you are sure you will not call Tensor.backward(). It reduces memory and time consumption."
      ]
    },
    {
      "cell_type": "code",
      "execution_count": 23,
      "id": "afdf3660",
      "metadata": {
        "execution": {
          "iopub.execute_input": "2022-04-14T21:00:24.993221Z",
          "iopub.status.busy": "2022-04-14T21:00:24.991870Z",
          "iopub.status.idle": "2022-04-14T21:00:24.995236Z",
          "shell.execute_reply": "2022-04-14T21:00:24.995661Z",
          "shell.execute_reply.started": "2022-04-14T20:48:26.398779Z"
        },
        "papermill": {
          "duration": 0.047818,
          "end_time": "2022-04-14T21:00:24.995796",
          "exception": false,
          "start_time": "2022-04-14T21:00:24.947978",
          "status": "completed"
        },
        "tags": [],
        "id": "afdf3660"
      },
      "outputs": [],
      "source": [
        "def valid_fn(valid_loader, model, criterion, device):\n",
        "  model.eval()\n",
        "\n",
        "  size = len(valid_loader.dataset)\n",
        "  num_batches = len(valid_loader)\n",
        "\n",
        "  loss, correct = 0, 0\n",
        "\n",
        "  ################################# validation #################################\n",
        "\n",
        "  with torch.no_grad(): # disable gradients\n",
        "    for batch, (X, y) in enumerate(valid_loader):\n",
        "\n",
        "      start = time.time()\n",
        "\n",
        "      device = torch.device(device)\n",
        "      X, y = X.to(device), y.to(device)\n",
        "\n",
        "      # compute predictions and loss\n",
        "      pred = model(X)\n",
        "      loss = criterion(pred, y.long().squeeze())\n",
        "      current = batch * len(X)\n",
        "\n",
        "      # sum correct predictions\n",
        "      y_pred, y_true = torch.argmax(pred, axis=1), y.long().squeeze()\n",
        "      correct += (y_pred == y_true).type(torch.float).sum().item()\n",
        "\n",
        "      end = time.time()\n",
        "      time_delta = np.round(end - start, 3)\n",
        "\n",
        "      # log\n",
        "      loss, current = np.round(loss.item(), 5), batch * len(X)\n",
        "      # if batch % (CFG.print_freq) == 0:\n",
        "      #   print(f\"Valid Batch: {current:>5d}/{size:>5d}: loss: {loss:>5f} Elapsed Time: {time_delta} s\")\n",
        "\n",
        "  # metrics: calculate accuracy and loss for epoch (all batches)\n",
        "  correct /= size # epoch accuracy\n",
        "  loss /= num_batches # epoch loss\n",
        "\n",
        "  print(f\"Valid: Accuracy: {(100*correct):>0.2f}%, Avg loss: {loss:>5f} \\n\")\n",
        "\n",
        "  return loss, correct"
      ]
    },
    {
      "cell_type": "code",
      "source": [
        "class DigitModel(nn.Module):\n",
        "    def __init__(self):\n",
        "        super().__init__()\n",
        "\n",
        "        self.model_name = model\n",
        "        self.cnn = model\n",
        "\n",
        "    def forward(self, x):\n",
        "        x = self.cnn(x)\n",
        "        return x\n",
        "model=DigitModel()"
      ],
      "metadata": {
        "id": "sDhyD9inrxUw"
      },
      "id": "sDhyD9inrxUw",
      "execution_count": 23,
      "outputs": []
    },
    {
      "cell_type": "markdown",
      "id": "9d9178f3",
      "metadata": {
        "papermill": {
          "duration": 0.03476,
          "end_time": "2022-04-14T21:00:25.067252",
          "exception": false,
          "start_time": "2022-04-14T21:00:25.032492",
          "status": "completed"
        },
        "tags": [],
        "id": "9d9178f3"
      },
      "source": [
        "# Run training"
      ]
    },
    {
      "cell_type": "code",
      "execution_count": 26,
      "id": "33625d12",
      "metadata": {
        "execution": {
          "iopub.execute_input": "2022-04-14T21:00:25.150772Z",
          "iopub.status.busy": "2022-04-14T21:00:25.145648Z",
          "iopub.status.idle": "2022-04-14T21:09:56.374809Z",
          "shell.execute_reply": "2022-04-14T21:09:56.375946Z",
          "shell.execute_reply.started": "2022-04-14T20:48:26.411568Z"
        },
        "papermill": {
          "duration": 571.273655,
          "end_time": "2022-04-14T21:09:56.376166",
          "exception": false,
          "start_time": "2022-04-14T21:00:25.102511",
          "status": "completed"
        },
        "tags": [],
        "colab": {
          "base_uri": "https://localhost:8080/"
        },
        "id": "33625d12",
        "outputId": "ad3d4c1d-07b1-4c5e-9850-1e732625e8e4"
      },
      "outputs": [
        {
          "output_type": "stream",
          "name": "stdout",
          "text": [
            "\n",
            " ******************************* Using backbone:  vit_tiny_patch16_224  ******************************* \n",
            "\n",
            "Starting Training...\n",
            "\n",
            "\n",
            "-------------------------------   Epoch 1   -------------------------------\n",
            "\n",
            "Train: Accuracy: 77.36%, Avg loss: 0.000980 \n",
            "\n",
            "Valid: Accuracy: 88.33%, Avg loss: 0.001335 \n",
            "\n",
            "\n",
            "\n",
            "Epoch Elapsed Time: 183.064 s\n",
            "\n",
            "-------------------------------   Epoch 2   -------------------------------\n",
            "\n",
            "Train: Accuracy: 81.30%, Avg loss: 0.000572 \n",
            "\n",
            "Valid: Accuracy: 89.98%, Avg loss: 0.001647 \n",
            "\n",
            "\n",
            "\n",
            "Epoch Elapsed Time: 182.893 s\n",
            "\n",
            "-------------------------------   Epoch 3   -------------------------------\n",
            "\n",
            "Train: Accuracy: 82.64%, Avg loss: 0.000463 \n",
            "\n",
            "Valid: Accuracy: 92.41%, Avg loss: 0.000403 \n",
            "\n",
            "\n",
            "\n",
            "Epoch Elapsed Time: 183.614 s\n",
            "\n",
            "-------------------------------   Epoch 4   -------------------------------\n",
            "\n",
            "Train: Accuracy: 83.54%, Avg loss: 0.000249 \n",
            "\n",
            "Valid: Accuracy: 93.35%, Avg loss: 0.000525 \n",
            "\n",
            "\n",
            "\n",
            "Epoch Elapsed Time: 184.643 s\n",
            "\n",
            "-------------------------------   Epoch 5   -------------------------------\n",
            "\n",
            "Train: Accuracy: 84.71%, Avg loss: 0.000872 \n",
            "\n",
            "Valid: Accuracy: 95.50%, Avg loss: 0.000336 \n",
            "\n",
            "\n",
            "\n",
            "Epoch Elapsed Time: 180.735 s\n",
            "\n",
            "-------------------------------   Epoch 6   -------------------------------\n",
            "\n",
            "Train: Accuracy: 84.57%, Avg loss: 0.000638 \n",
            "\n",
            "Valid: Accuracy: 94.24%, Avg loss: 0.000535 \n",
            "\n",
            "Epoch 00006: reducing learning rate of group 0 to 1.0000e-04.\n",
            "\n",
            "\n",
            "Epoch Elapsed Time: 180.444 s\n",
            "\n",
            "-------------------------------   Epoch 7   -------------------------------\n",
            "\n",
            "Train: Accuracy: 88.00%, Avg loss: 0.000283 \n",
            "\n",
            "Valid: Accuracy: 96.52%, Avg loss: 0.000192 \n",
            "\n",
            "\n",
            "\n",
            "Epoch Elapsed Time: 179.904 s\n",
            "\n",
            "-------------------------------   Epoch 8   -------------------------------\n",
            "\n",
            "Train: Accuracy: 88.66%, Avg loss: 0.000518 \n",
            "\n",
            "Valid: Accuracy: 96.31%, Avg loss: 0.000101 \n",
            "\n",
            "\n",
            "\n",
            "Epoch Elapsed Time: 179.248 s\n",
            "\n",
            "-------------------------------   Epoch 9   -------------------------------\n",
            "\n",
            "Train: Accuracy: 88.43%, Avg loss: 0.000196 \n",
            "\n",
            "Valid: Accuracy: 96.85%, Avg loss: 0.000162 \n",
            "\n",
            "\n",
            "\n",
            "Epoch Elapsed Time: 179.444 s\n",
            "\n",
            "-------------------------------   Epoch 10   -------------------------------\n",
            "\n",
            "Train: Accuracy: 88.99%, Avg loss: 0.000250 \n",
            "\n",
            "Valid: Accuracy: 96.83%, Avg loss: 0.000045 \n",
            "\n",
            "Epoch 00010: reducing learning rate of group 0 to 5.0000e-05.\n",
            "\n",
            "\n",
            "Epoch Elapsed Time: 179.774 s\n",
            "\n",
            "\n",
            "Total Elapsed Time: 30.229 min\n",
            "Done!\n"
          ]
        }
      ],
      "source": [
        "start = time.time()\n",
        "\n",
        "# define loss function\n",
        "loss_fn = nn.CrossEntropyLoss()\n",
        "\n",
        "# instantiate model\n",
        "device = torch.device(device)\n",
        "model = model.to(device) # move the model to GPU before constructing optimizers for it\n",
        "\n",
        "print('\\n ******************************* Using backbone: ', CFG.model_name, \" ******************************* \\n\")\n",
        "\n",
        "# define optimizer\n",
        "optimizer = get_optimizer(lr = CFG.LEARNING_RATE)\n",
        "\n",
        "# define scheduler\n",
        "scheduler = get_scheduler(optimizer)\n",
        "\n",
        "# prepare dataset\n",
        "train_dataloader = DataLoader(train_ds,\n",
        "                              batch_size = CFG.BATCH_SIZE,\n",
        "                              shuffle = CFG.shuffle)\n",
        "\n",
        "valid_dataloader = DataLoader(valid_ds,\n",
        "                              batch_size = CFG.BATCH_SIZE,\n",
        "                              shuffle = CFG.shuffle)\n",
        "\n",
        "\n",
        "train_loss_history = []\n",
        "train_acc_history = []\n",
        "valid_loss_history = []\n",
        "valid_acc_history = []\n",
        "LR_history = []\n",
        "\n",
        "best_loss = np.inf\n",
        "best_epoch_loss = 0\n",
        "best_acc = 0\n",
        "best_epoch_acc = 0\n",
        "\n",
        "print('Starting Training...\\n')\n",
        "\n",
        "start_train_time = time.time()\n",
        "\n",
        "for epoch in range(0, CFG.N_EPOCHS):\n",
        "  print(f\"\\n-------------------------------   Epoch {epoch + 1}   -------------------------------\\n\")\n",
        "  start_epoch_time = time.time()\n",
        "\n",
        "  # train\n",
        "  train_loss, train_acc = train_fn(train_dataloader, model, loss_fn, optimizer, device)\n",
        "  train_loss_history.append(train_loss)\n",
        "  train_acc_history.append(train_acc)\n",
        "\n",
        "  # validation\n",
        "  valid_loss, valid_acc = valid_fn(valid_dataloader, model, loss_fn, device)\n",
        "  valid_loss_history.append(valid_loss)\n",
        "  valid_acc_history.append(valid_acc)\n",
        "\n",
        "  # apply LR scheduler after each epoch\n",
        "  if isinstance(scheduler, ReduceLROnPlateau):\n",
        "      scheduler.step(valid_loss)\n",
        "\n",
        "  elif isinstance(scheduler, CosineAnnealingLR):\n",
        "      scheduler.step()\n",
        "\n",
        "  # save LR value to plot later\n",
        "  for param_group in optimizer.param_groups:\n",
        "    LR_history.append(param_group['lr'])\n",
        "\n",
        "  # save validation loss if it was improved (reduced)\n",
        "  if valid_loss < best_loss:\n",
        "    best_epoch_loss = epoch + 1\n",
        "    best_loss = valid_loss\n",
        "    if CFG.save_best_loss:\n",
        "      # save the model's weights and biases only if CFG.save_best_loss == True\n",
        "      torch.save(model.state_dict(), CFG.OUTPUT_PATH + f\"DigitModel_ep{best_epoch_loss}.pth\")\n",
        "\n",
        "  # save validation accuracy if it was improved (increased)\n",
        "  if valid_acc > best_acc:\n",
        "    best_epoch_acc = epoch + 1\n",
        "    best_acc = valid_acc\n",
        "    if CFG.save_best_accuracy:\n",
        "      # save the model's weights and biases only if CFG.save_best_accuracy == True\n",
        "      torch.save(model.state_dict(), CFG.OUTPUT_PATH + f\"DigitModel_ep{best_epoch_acc}.pth\")\n",
        "\n",
        "  end_epoch_time = time.time()\n",
        "  time_delta = np.round(end_epoch_time - start_epoch_time, 3)\n",
        "  print(\"\\n\\nEpoch Elapsed Time: {} s\".format(time_delta))\n",
        "\n",
        "end_train_time = time.time()\n",
        "print(\"\\n\\nTotal Elapsed Time: {} min\".format(np.round((end_train_time - start_train_time)/60, 3)))\n",
        "print(\"Done!\")"
      ]
    },
    {
      "cell_type": "markdown",
      "source": [
        "## Plot Epochs\n",
        "\n",
        "Plot Train and Validation Loss and Accuracy for each Epoch."
      ],
      "metadata": {
        "id": "PoDEy-g9CZSq"
      },
      "id": "PoDEy-g9CZSq"
    },
    {
      "cell_type": "code",
      "source": [
        "print('Best loss: ', best_loss)\n",
        "print('Best epoch (loss criteria): ', best_epoch_loss)\n",
        "print('\\n')\n",
        "print('Best accuracy: ', best_acc)\n",
        "print('Best epoch (accuracy criteria): ', best_epoch_acc)"
      ],
      "metadata": {
        "colab": {
          "base_uri": "https://localhost:8080/"
        },
        "id": "RAxJfWEbCu2v",
        "outputId": "31c8525e-dabf-4d81-c4e8-aa8cf48b4309"
      },
      "id": "RAxJfWEbCu2v",
      "execution_count": 28,
      "outputs": [
        {
          "output_type": "stream",
          "name": "stdout",
          "text": [
            "Best loss:  4.4674556213017755e-05\n",
            "Best epoch (loss criteria):  10\n",
            "\n",
            "\n",
            "Best accuracy:  0.9685185185185186\n",
            "Best epoch (accuracy criteria):  9\n"
          ]
        }
      ]
    },
    {
      "cell_type": "code",
      "source": [
        "fig = plt.figure(figsize = (18, 8))\n",
        "fig.suptitle('Epoch Results', fontsize = 18)\n",
        "\n",
        "abscissa = np.arange(1, CFG.N_EPOCHS + 1, 1)\n",
        "\n",
        "# x_ticks according to CFG.N_EPOCHS for better visuailzation\n",
        "if CFG.N_EPOCHS <= 20:\n",
        "  x_ticks = np.arange(1, CFG.N_EPOCHS + 1, 1)\n",
        "else:\n",
        "  x_ticks = np.arange(1, CFG.N_EPOCHS + 1, int(CFG.N_EPOCHS/20) + 1)\n",
        "\n",
        "# Loss plot\n",
        "ax1 = plt.subplot(1, 2, 1)\n",
        "ax1.plot(abscissa, train_loss_history, label='Training', color = 'black')\n",
        "ax1.plot(abscissa, valid_loss_history, label='Validation', color = 'red')\n",
        "plt.xticks(x_ticks)\n",
        "plt.axhline(0, linestyle = 'dashed', color = 'grey')\n",
        "plt.axvline(best_epoch_loss, linestyle = 'dashed', color = 'blue', label = 'Best val loss: ep ' + str(best_epoch_loss))\n",
        "plt.axvline(best_epoch_acc, linestyle = 'dashed', color = 'green', label = 'Best val acc: ep ' + str(best_epoch_acc))\n",
        "plt.title(\"Loss\")\n",
        "ax1.legend(frameon=False);\n",
        "\n",
        "# Accuracy plot\n",
        "ax2 = plt.subplot(1, 2, 2)\n",
        "ax2.plot(abscissa, train_acc_history, label='Training', color = 'black')\n",
        "ax2.plot(abscissa, valid_acc_history, label='Validation', color = 'red')\n",
        "plt.xticks(x_ticks)\n",
        "plt.axhline(0.99, linestyle = 'dashed', color = 'grey')\n",
        "plt.axvline(best_epoch_loss, linestyle = 'dashed', color = 'blue', label = 'Best val loss: ep ' + str(best_epoch_loss))\n",
        "plt.axvline(best_epoch_acc, linestyle = 'dashed', color = 'green', label = 'Best val acc: ep ' + str(best_epoch_acc))\n",
        "plt.title(\"Accuracy\")\n",
        "ax2.legend(frameon=False);"
      ],
      "metadata": {
        "colab": {
          "base_uri": "https://localhost:8080/",
          "height": 756
        },
        "id": "RjHv9WxFETlL",
        "outputId": "c27777a1-425b-4011-a2f5-3c400a572dff"
      },
      "id": "RjHv9WxFETlL",
      "execution_count": 29,
      "outputs": [
        {
          "output_type": "display_data",
          "data": {
            "text/plain": [
              "<Figure size 1800x800 with 2 Axes>"
            ],
            "image/png": "[encoded data removed]"
          },
          "metadata": {}
        }
      ]
    },
    {
      "cell_type": "code",
      "source": [
        "fig = plt.figure(figsize = (14, 8))\n",
        "\n",
        "abscissa = np.arange(1, CFG.N_EPOCHS + 1, 1)\n",
        "\n",
        "# x_ticks according to CFG.N_EPOCHS for better visuailzation\n",
        "if CFG.N_EPOCHS <= 20:\n",
        "  x_ticks = np.arange(1, CFG.N_EPOCHS + 1, 1)\n",
        "else:\n",
        "  x_ticks = np.arange(1, CFG.N_EPOCHS + 1, int(CFG.N_EPOCHS/20) + 1)\n",
        "\n",
        "# LR plot\n",
        "plt.plot(abscissa, LR_history, label='LR', color = 'orange')\n",
        "plt.xticks(x_ticks)\n",
        "plt.axhline(CFG.LEARNING_RATE, linestyle = 'dashed', color = 'grey')\n",
        "plt.axhline(0, linestyle = 'dashed', color = 'grey')\n",
        "plt.axvline(best_epoch_loss, linestyle = 'dashed', color = 'blue', label = 'Best val loss: ep ' + str(best_epoch_loss))\n",
        "plt.axvline(best_epoch_acc, linestyle = 'dashed', color = 'green', label = 'Best val acc: ep ' + str(best_epoch_acc))\n",
        "plt.title(f\"Learning Rate vs Epochs: {CFG.scheduler}\", fontsize = 16, color = 'orange')\n",
        "plt.legend(frameon=False);"
      ],
      "metadata": {
        "colab": {
          "base_uri": "https://localhost:8080/",
          "height": 701
        },
        "id": "7uhk1wcSEYZV",
        "outputId": "09164e0a-2ddd-4c5a-a583-fc25ec0dea2d"
      },
      "id": "7uhk1wcSEYZV",
      "execution_count": 30,
      "outputs": [
        {
          "output_type": "display_data",
          "data": {
            "text/plain": [
              "<Figure size 1400x800 with 1 Axes>"
            ],
            "image/png": "[encoded data removed]"
          },
          "metadata": {}
        }
      ]
    },
    {
      "cell_type": "markdown",
      "source": [
        "## Results\n",
        "\n",
        "First, note that the train accuracy is lower than expected due to the use of data augmentation, which is only active on the training set.\n",
        "\n",
        "The performance of the model is higher than the fast ai method, but lower than the Hugging Face method. This means that the performance is lower than the reference [1], which can be attributed to the use of the tiny variant of ViT.\n",
        "\n",
        "There are a few potential reasons for other differences:\n",
        "1. Difference in the train-test-validation split\n",
        "2. Optimizer settings: no hyperparameter tuning, limited number of epochs\n",
        "3. Data augmentation\n",
        "\n",
        "All points should be further cheched against the paper. We could apply a hyperparameter tuning & continue the training for more epochs to alleviate points 2."
      ],
      "metadata": {
        "id": "e7xtQTwrEh3D"
      },
      "id": "e7xtQTwrEh3D"
    },
    {
      "cell_type": "markdown",
      "source": [
        "# Alternative Training\n",
        "\n",
        "Alternative training procedure, which supports a few more advanced functionalities:\n",
        "* Using pytorch_accelerated\n",
        "* MixUp data augmentation.\n",
        "* Model EMA\n",
        "\n",
        "Source: [Towards Data Science](https://towardsdatascience.com/getting-started-with-pytorch-image-models-timm-a-practitioners-guide-4e77b4bf9055)"
      ],
      "metadata": {
        "id": "og1ICYa7C1Ds"
      },
      "id": "og1ICYa7C1Ds"
    },
    {
      "cell_type": "code",
      "source": [
        "import torchmetrics\n",
        "from timm.optim.optim_factory import create_optimizer_v2\n",
        "from timm.loss import BinaryCrossEntropy\n",
        "from timm.scheduler import CosineLRScheduler\n",
        "\n",
        "from pytorch_accelerated.callbacks import SaveBestModelCallback\n",
        "from pytorch_accelerated.trainer import Trainer, DEFAULT_CALLBACKS"
      ],
      "metadata": {
        "colab": {
          "base_uri": "https://localhost:8080/"
        },
        "id": "S1jb22YFDjH9",
        "outputId": "5c2b4d54-20d5-4196-ad5a-471a83080b77"
      },
      "id": "S1jb22YFDjH9",
      "execution_count": 24,
      "outputs": [
        {
          "output_type": "stream",
          "name": "stderr",
          "text": [
            "INFO:pytorch_accelerated:Setting random seeds\n"
          ]
        }
      ]
    },
    {
      "cell_type": "code",
      "source": [
        "class TimmMixupTrainer(Trainer):\n",
        "    def __init__(self, eval_loss_fn, mixup_args, num_classes, *args, **kwargs):\n",
        "        super().__init__(*args, **kwargs)\n",
        "        self.eval_loss_fn = eval_loss_fn\n",
        "        self.num_updates = None\n",
        "        self.mixup_fn = timm.data.Mixup(**mixup_args)\n",
        "\n",
        "        self.accuracy = torchmetrics.Accuracy(num_classes=num_classes, task=\"multiclass\")\n",
        "        self.ema_accuracy = torchmetrics.Accuracy(num_classes=num_classes, task=\"multiclass\")\n",
        "        self.ema_model = None\n",
        "\n",
        "    def create_scheduler(self):\n",
        "        return timm.scheduler.CosineLRScheduler(\n",
        "            self.optimizer,\n",
        "            t_initial=self.run_config.num_epochs,\n",
        "            cycle_decay=0.5,\n",
        "            lr_min=1e-6,\n",
        "            t_in_epochs=True,\n",
        "            warmup_t=3,\n",
        "            warmup_lr_init=1e-4,\n",
        "            cycle_limit=1,\n",
        "        )\n",
        "\n",
        "    def training_run_start(self):\n",
        "        # Model EMA requires the model without a DDP wrapper and before sync batchnorm conversion\n",
        "        self.ema_model = timm.utils.ModelEmaV2(\n",
        "            self._accelerator.unwrap_model(self.model), decay=0.9\n",
        "        )\n",
        "        if self.run_config.is_distributed:\n",
        "            self.model = torch.nn.SyncBatchNorm.convert_sync_batchnorm(self.model)\n",
        "\n",
        "    def train_epoch_start(self):\n",
        "        super().train_epoch_start()\n",
        "        self.num_updates = self.run_history.current_epoch * len(self._train_dataloader)\n",
        "\n",
        "    def calculate_train_batch_loss(self, batch):\n",
        "        xb, yb = batch\n",
        "        mixup_xb, mixup_yb = self.mixup_fn(xb, yb)\n",
        "        return super().calculate_train_batch_loss((mixup_xb, mixup_yb))\n",
        "\n",
        "    def train_epoch_end(\n",
        "        self,\n",
        "    ):\n",
        "        self.ema_model.update(self.model)\n",
        "        self.ema_model.eval()\n",
        "\n",
        "        if hasattr(self.optimizer, \"sync_lookahead\"):\n",
        "            self.optimizer.sync_lookahead()\n",
        "\n",
        "    def scheduler_step(self):\n",
        "        self.num_updates += 1\n",
        "        if self.scheduler is not None:\n",
        "            self.scheduler.step_update(num_updates=self.num_updates)\n",
        "\n",
        "    def calculate_eval_batch_loss(self, batch):\n",
        "        with torch.no_grad():\n",
        "            xb, yb = batch\n",
        "            outputs = self.model(xb)\n",
        "            val_loss = self.eval_loss_fn(outputs, yb)\n",
        "            self.accuracy.update(outputs.argmax(-1), yb)\n",
        "\n",
        "            ema_model_preds = self.ema_model.module(xb).argmax(-1)\n",
        "            self.ema_accuracy.update(ema_model_preds, yb)\n",
        "\n",
        "        return {\"loss\": val_loss, \"model_outputs\": outputs, \"batch_size\": xb.size(0)}\n",
        "\n",
        "    def eval_epoch_end(self):\n",
        "        super().eval_epoch_end()\n",
        "\n",
        "        if self.scheduler is not None:\n",
        "            self.scheduler.step(self.run_history.current_epoch + 1)\n",
        "\n",
        "        self.run_history.update_metric(\"accuracy\", self.accuracy.compute().cpu())\n",
        "        self.run_history.update_metric(\n",
        "            \"ema_model_accuracy\", self.ema_accuracy.compute().cpu()\n",
        "        )\n",
        "        self.accuracy.reset()\n",
        "        self.ema_accuracy.reset()"
      ],
      "metadata": {
        "id": "dWqDOZBQ_x5z"
      },
      "id": "dWqDOZBQ_x5z",
      "execution_count": 25,
      "outputs": []
    },
    {
      "cell_type": "code",
      "source": [
        "class TimmTrainer(Trainer):\n",
        "    def __init__(self, eval_loss_fn, num_classes, *args, **kwargs):\n",
        "        super().__init__(*args, **kwargs)\n",
        "        self.eval_loss_fn = eval_loss_fn\n",
        "        self.num_updates = None\n",
        "\n",
        "        self.accuracy = torchmetrics.Accuracy(num_classes=num_classes, task=\"multiclass\")\n",
        "\n",
        "    def create_scheduler(self):\n",
        "        return timm.scheduler.CosineLRScheduler(\n",
        "            self.optimizer,\n",
        "            t_initial=self.run_config.num_epochs,\n",
        "            cycle_decay=0.5,\n",
        "            lr_min=1e-6,\n",
        "            t_in_epochs=True,\n",
        "            warmup_t=3,\n",
        "            warmup_lr_init=1e-4,\n",
        "            cycle_limit=1,\n",
        "        )\n",
        "\n",
        "    def training_run_start(self):\n",
        "        if self.run_config.is_distributed:\n",
        "            self.model = torch.nn.SyncBatchNorm.convert_sync_batchnorm(self.model)\n",
        "\n",
        "    def train_epoch_start(self):\n",
        "        super().train_epoch_start()\n",
        "        self.num_updates = self.run_history.current_epoch * len(self._train_dataloader)\n",
        "\n",
        "    def train_epoch_end(\n",
        "        self,\n",
        "    ):\n",
        "\n",
        "        if hasattr(self.optimizer, \"sync_lookahead\"):\n",
        "            self.optimizer.sync_lookahead()\n",
        "\n",
        "    def scheduler_step(self):\n",
        "        self.num_updates += 1\n",
        "        if self.scheduler is not None:\n",
        "            self.scheduler.step_update(num_updates=self.num_updates)\n",
        "\n",
        "    def calculate_eval_batch_loss(self, batch):\n",
        "        with torch.no_grad():\n",
        "            xb, yb = batch\n",
        "            outputs = self.model(xb)\n",
        "            val_loss = self.eval_loss_fn(outputs, yb)\n",
        "            self.accuracy.update(outputs.argmax(-1), yb)\n",
        "\n",
        "        return {\"loss\": val_loss, \"model_outputs\": outputs, \"batch_size\": xb.size(0)}\n",
        "\n",
        "    def eval_epoch_end(self):\n",
        "        super().eval_epoch_end()\n",
        "\n",
        "        if self.scheduler is not None:\n",
        "            self.scheduler.step(self.run_history.current_epoch + 1)\n",
        "\n",
        "        self.run_history.update_metric(\"accuracy\", self.accuracy.compute().cpu())\n",
        "        self.accuracy.reset()"
      ],
      "metadata": {
        "id": "5cCB3S0rarzD"
      },
      "id": "5cCB3S0rarzD",
      "execution_count": 26,
      "outputs": []
    },
    {
      "cell_type": "code",
      "source": [
        "def main():\n",
        "    # Set training arguments, hardcoded here for clarity\n",
        "    smoothing = 0.1\n",
        "    mixup = 0.2\n",
        "    cutmix = 1.0\n",
        "    bce_target_thresh = 0.2\n",
        "\n",
        "    mixup_args = dict(\n",
        "        mixup_alpha=mixup,\n",
        "        cutmix_alpha=cutmix,\n",
        "        label_smoothing=smoothing,\n",
        "        num_classes=num_classes,\n",
        "    )\n",
        "\n",
        "    # Create model using timm\n",
        "    model = timm.create_model(\n",
        "        CFG.model_name, pretrained=False, num_classes=num_classes, drop_path_rate=0.05\n",
        "    )\n",
        "    device = torch.device('cuda' if torch.cuda.is_available() else 'cpu')\n",
        "    print(device)\n",
        "    device = torch.device(device)\n",
        "    model = model.to(device) # move the model to GPU before constructing optimizers for it\n",
        "\n",
        "    # Create optimizer\n",
        "    optimizer = create_optimizer_v2(\n",
        "        model, opt=\"AdamW\", lr=CFG.LEARNING_RATE\n",
        "    )\n",
        "\n",
        "    # As we are using Mixup, we can use BCE during training and CE for evaluation\n",
        "    train_loss_fn = BinaryCrossEntropy(\n",
        "        #target_threshold=bce_target_thresh,\n",
        "        smoothing=smoothing\n",
        "    )\n",
        "    train_loss_fn = torch.nn.CrossEntropyLoss()\n",
        "    validate_loss_fn = torch.nn.CrossEntropyLoss()\n",
        "\n",
        "    # Create trainer and start training\n",
        "    trainer = TimmTrainer(\n",
        "        model=model,\n",
        "        optimizer=optimizer,\n",
        "        loss_func=train_loss_fn,\n",
        "        eval_loss_fn=validate_loss_fn,\n",
        "        #mixup_args=mixup_args,\n",
        "        num_classes=num_classes,\n",
        "        callbacks=[\n",
        "            *DEFAULT_CALLBACKS,\n",
        "            SaveBestModelCallback(watch_metric=\"accuracy\", greater_is_better=True),\n",
        "        ],\n",
        "    )\n",
        "\n",
        "    trainer.train(\n",
        "        per_device_batch_size=CFG.BATCH_SIZE,\n",
        "        train_dataset=train_ds,\n",
        "        eval_dataset=valid_ds,\n",
        "        num_epochs=CFG.N_EPOCHS,\n",
        "        create_scheduler_fn=trainer.create_scheduler,\n",
        "    )"
      ],
      "metadata": {
        "id": "AO6NH9LAEIY4"
      },
      "id": "AO6NH9LAEIY4",
      "execution_count": 29,
      "outputs": []
    },
    {
      "cell_type": "code",
      "source": [
        "main()"
      ],
      "metadata": {
        "colab": {
          "base_uri": "https://localhost:8080/"
        },
        "id": "1Vj2i6THEJya",
        "outputId": "cbe6857c-9d84-46a1-e2e3-ce022ec68708"
      },
      "id": "1Vj2i6THEJya",
      "execution_count": null,
      "outputs": [
        {
          "output_type": "stream",
          "name": "stdout",
          "text": [
            "cuda\n",
            "\n",
            "Starting training run\n",
            "\n",
            "Starting epoch 1\n"
          ]
        },
        {
          "output_type": "stream",
          "name": "stderr",
          "text": [
            "100%|██████████| 1350/1350 [02:17<00:00,  9.84it/s]\n"
          ]
        },
        {
          "output_type": "stream",
          "name": "stdout",
          "text": [
            "\n",
            "train_loss_epoch: 1.7438749074935913\n"
          ]
        },
        {
          "output_type": "stream",
          "name": "stderr",
          "text": [
            "100%|██████████| 338/338 [00:20<00:00, 16.84it/s]\n"
          ]
        },
        {
          "output_type": "stream",
          "name": "stdout",
          "text": [
            "\n",
            "accuracy: 0.5859259366989136\n",
            "\n",
            "eval_loss_epoch: 1.1673822402954102\n",
            "\n",
            "Starting epoch 2\n"
          ]
        },
        {
          "output_type": "stream",
          "name": "stderr",
          "text": [
            "100%|██████████| 1350/1350 [02:14<00:00, 10.06it/s]\n"
          ]
        },
        {
          "output_type": "stream",
          "name": "stdout",
          "text": [
            "\n",
            "train_loss_epoch: 1.4410638809204102\n"
          ]
        },
        {
          "output_type": "stream",
          "name": "stderr",
          "text": [
            "100%|██████████| 338/338 [00:17<00:00, 19.82it/s]\n"
          ]
        },
        {
          "output_type": "stream",
          "name": "stdout",
          "text": [
            "\n",
            "accuracy: 0.7075926065444946\n",
            "\n",
            "eval_loss_epoch: 0.8996589183807373\n",
            "\n",
            "Starting epoch 3\n"
          ]
        },
        {
          "output_type": "stream",
          "name": "stderr",
          "text": [
            "100%|██████████| 1350/1350 [02:20<00:00,  9.61it/s]\n"
          ]
        },
        {
          "output_type": "stream",
          "name": "stdout",
          "text": [
            "\n",
            "train_loss_epoch: 1.2228455543518066\n"
          ]
        },
        {
          "output_type": "stream",
          "name": "stderr",
          "text": [
            "100%|██████████| 338/338 [00:18<00:00, 18.22it/s]\n"
          ]
        },
        {
          "output_type": "stream",
          "name": "stdout",
          "text": [
            "\n",
            "accuracy: 0.6475926041603088\n",
            "\n",
            "eval_loss_epoch: 0.9939463138580322\n",
            "\n",
            "Starting epoch 4\n"
          ]
        },
        {
          "output_type": "stream",
          "name": "stderr",
          "text": [
            "100%|██████████| 1350/1350 [02:17<00:00,  9.80it/s]\n"
          ]
        },
        {
          "output_type": "stream",
          "name": "stdout",
          "text": [
            "\n",
            "train_loss_epoch: 1.0623611211776733\n"
          ]
        },
        {
          "output_type": "stream",
          "name": "stderr",
          "text": [
            "100%|██████████| 338/338 [00:15<00:00, 21.47it/s]"
          ]
        }
      ]
    },
    {
      "cell_type": "markdown",
      "source": [
        "## Results\n",
        "\n",
        "A few variants were tried. Results after 10 epochs:\n",
        "\n",
        "* Standard version of algorithm: 0.79\n",
        "* No BCE threshold: 0.854\n",
        "* No MixUp: 0.875\n",
        "* No EMA: 0.875\n",
        "* Batch size & weight_decay\n",
        "* drop_path_rate\n"
      ],
      "metadata": {
        "id": "2Ptapf4GwYcX"
      },
      "id": "2Ptapf4GwYcX"
    },
    {
      "cell_type": "markdown",
      "source": [
        "# Other Training algorithms\n",
        "There are two more alternatives for training algorithms:\n",
        "1. A more compact (but also relatively basic) training routine could be composed from: https://timm.fast.ai/Optimizers, especially by lifting the limitation for training only 1 epoch.\n",
        "2. Use the [official training script](https://huggingface.co/docs/timm/training_script), though giving probably the best results, it would aloow less learning :)"
      ],
      "metadata": {
        "id": "pdIX54XgxN9B"
      },
      "id": "pdIX54XgxN9B"
    },
    {
      "cell_type": "markdown",
      "source": [
        "# Conclusion\n",
        "\n",
        "While the results for the first training method are good (96.85%), the second training method did not succeed.\n",
        "\n",
        "Note that the results are better than the ones attained with fast ai, while using the same base model (ViT-tiny), also not pretrained on ImageNet21K (which is advised by [1])."
      ],
      "metadata": {
        "id": "fVr99jr4Gwpq"
      },
      "id": "fVr99jr4Gwpq"
    },
    {
      "cell_type": "markdown",
      "source": [
        "## Evaluation\n",
        "\n",
        "The use of timm instead of plain pytorch is practical for:\n",
        "1. The image transformation and data augmentation (handled in the same object)\n",
        "2. Loading an existing model\n",
        "\n",
        "Having a special timm training function is not necessarily worth it, unless using the official training script.\n",
        "\n",
        "This code should be relatively easy to adapt to plain PyTorch code if an existing ViT model can be accessed from it."
      ],
      "metadata": {
        "id": "s2eXNIi5x1lB"
      },
      "id": "s2eXNIi5x1lB"
    },
    {
      "cell_type": "markdown",
      "source": [
        "# References\n",
        "\n",
        "[1] Ivica Dimitrovski, Ivan Kitanovski, Dragi Kocev, Nikola Simidjievski, Current trends in deep learning for Earth Observation: An open-source benchmark arena for image classification,\n",
        "ISPRS Journal of Photogrammetry and Remote Sensing, Volume 197, 2023, Pages 18-35, ISSN 0924-2716, https://doi.org/10.1016/j.isprsjprs.2023.01.014. (https://www.sciencedirect.com/science/article/pii/S0924271623000205)"
      ],
      "metadata": {
        "id": "yZiOhpAqGv-H"
      },
      "id": "yZiOhpAqGv-H"
    }
  ],
  "metadata": {
    "kernelspec": {
      "display_name": "Python 3",
      "name": "python3"
    },
    "language_info": {
      "codemirror_mode": {
        "name": "ipython",
        "version": 3
      },
      "file_extension": ".py",
      "mimetype": "text/x-python",
      "name": "python",
      "nbconvert_exporter": "python",
      "pygments_lexer": "ipython3",
      "version": "3.11.3"
    },
    "papermill": {
      "default_parameters": {},
      "duration": 624.69215,
      "end_time": "2022-04-14T21:10:06.214712",
      "environment_variables": {},
      "exception": null,
      "input_path": "__notebook__.ipynb",
      "output_path": "__notebook__.ipynb",
      "parameters": {},
      "start_time": "2022-04-14T20:59:41.522562",
      "version": "2.3.3"
    },
    "colab": {
      "provenance": [],
      "toc_visible": true,
      "gpuType": "T4"
    },
    "accelerator": "GPU",
    "widgets": {
      "application/vnd.jupyter.widget-state+json": {
        "6ba5f15c3c2845cc8a06628f9c98823f": {
          "model_module": "@jupyter-widgets/controls",
          "model_name": "HBoxModel",
          "model_module_version": "1.5.0",
          "state": {
            "_dom_classes": [],
            "_model_module": "@jupyter-widgets/controls",
            "_model_module_version": "1.5.0",
            "_model_name": "HBoxModel",
            "_view_count": null,
            "_view_module": "@jupyter-widgets/controls",
            "_view_module_version": "1.5.0",
            "_view_name": "HBoxView",
            "box_style": "",
            "children": [
              "IPY_MODEL_341e0a1a4ed4486d8a49b66e0b85d46b",
              "IPY_MODEL_577a23a1773942bda469dde52491a60c",
              "IPY_MODEL_917b101f492842c09f5978bd804069fa"
            ],
            "layout": "IPY_MODEL_5e9135f578f242a6aacdfb4b83dec544"
          }
        },
        "341e0a1a4ed4486d8a49b66e0b85d46b": {
          "model_module": "@jupyter-widgets/controls",
          "model_name": "HTMLModel",
          "model_module_version": "1.5.0",
          "state": {
            "_dom_classes": [],
            "_model_module": "@jupyter-widgets/controls",
            "_model_module_version": "1.5.0",
            "_model_name": "HTMLModel",
            "_view_count": null,
            "_view_module": "@jupyter-widgets/controls",
            "_view_module_version": "1.5.0",
            "_view_name": "HTMLView",
            "description": "",
            "description_tooltip": null,
            "layout": "IPY_MODEL_b50e591e432e465294a511b32e5735f0",
            "placeholder": "​",
            "style": "IPY_MODEL_65019bb917e04438a6c1ebdc97a66317",
            "value": "Downloading model.safetensors: 100%"
          }
        },
        "577a23a1773942bda469dde52491a60c": {
          "model_module": "@jupyter-widgets/controls",
          "model_name": "FloatProgressModel",
          "model_module_version": "1.5.0",
          "state": {
            "_dom_classes": [],
            "_model_module": "@jupyter-widgets/controls",
            "_model_module_version": "1.5.0",
            "_model_name": "FloatProgressModel",
            "_view_count": null,
            "_view_module": "@jupyter-widgets/controls",
            "_view_module_version": "1.5.0",
            "_view_name": "ProgressView",
            "bar_style": "success",
            "description": "",
            "description_tooltip": null,
            "layout": "IPY_MODEL_d906822d407844e5af8646db67b59d1b",
            "max": 22883348,
            "min": 0,
            "orientation": "horizontal",
            "style": "IPY_MODEL_c45d253e4c914e26b6d641b3904dca8c",
            "value": 22883348
          }
        },
        "917b101f492842c09f5978bd804069fa": {
          "model_module": "@jupyter-widgets/controls",
          "model_name": "HTMLModel",
          "model_module_version": "1.5.0",
          "state": {
            "_dom_classes": [],
            "_model_module": "@jupyter-widgets/controls",
            "_model_module_version": "1.5.0",
            "_model_name": "HTMLModel",
            "_view_count": null,
            "_view_module": "@jupyter-widgets/controls",
            "_view_module_version": "1.5.0",
            "_view_name": "HTMLView",
            "description": "",
            "description_tooltip": null,
            "layout": "IPY_MODEL_e338470703fa4ba39e0feaa49b3a587c",
            "placeholder": "​",
            "style": "IPY_MODEL_6b5098145f4e4335abbf0c195b0d6025",
            "value": " 22.9M/22.9M [00:00&lt;00:00, 70.6MB/s]"
          }
        },
        "5e9135f578f242a6aacdfb4b83dec544": {
          "model_module": "@jupyter-widgets/base",
          "model_name": "LayoutModel",
          "model_module_version": "1.2.0",
          "state": {
            "_model_module": "@jupyter-widgets/base",
            "_model_module_version": "1.2.0",
            "_model_name": "LayoutModel",
            "_view_count": null,
            "_view_module": "@jupyter-widgets/base",
            "_view_module_version": "1.2.0",
            "_view_name": "LayoutView",
            "align_content": null,
            "align_items": null,
            "align_self": null,
            "border": null,
            "bottom": null,
            "display": null,
            "flex": null,
            "flex_flow": null,
            "grid_area": null,
            "grid_auto_columns": null,
            "grid_auto_flow": null,
            "grid_auto_rows": null,
            "grid_column": null,
            "grid_gap": null,
            "grid_row": null,
            "grid_template_areas": null,
            "grid_template_columns": null,
            "grid_template_rows": null,
            "height": null,
            "justify_content": null,
            "justify_items": null,
            "left": null,
            "margin": null,
            "max_height": null,
            "max_width": null,
            "min_height": null,
            "min_width": null,
            "object_fit": null,
            "object_position": null,
            "order": null,
            "overflow": null,
            "overflow_x": null,
            "overflow_y": null,
            "padding": null,
            "right": null,
            "top": null,
            "visibility": null,
            "width": null
          }
        },
        "b50e591e432e465294a511b32e5735f0": {
          "model_module": "@jupyter-widgets/base",
          "model_name": "LayoutModel",
          "model_module_version": "1.2.0",
          "state": {
            "_model_module": "@jupyter-widgets/base",
            "_model_module_version": "1.2.0",
            "_model_name": "LayoutModel",
            "_view_count": null,
            "_view_module": "@jupyter-widgets/base",
            "_view_module_version": "1.2.0",
            "_view_name": "LayoutView",
            "align_content": null,
            "align_items": null,
            "align_self": null,
            "border": null,
            "bottom": null,
            "display": null,
            "flex": null,
            "flex_flow": null,
            "grid_area": null,
            "grid_auto_columns": null,
            "grid_auto_flow": null,
            "grid_auto_rows": null,
            "grid_column": null,
            "grid_gap": null,
            "grid_row": null,
            "grid_template_areas": null,
            "grid_template_columns": null,
            "grid_template_rows": null,
            "height": null,
            "justify_content": null,
            "justify_items": null,
            "left": null,
            "margin": null,
            "max_height": null,
            "max_width": null,
            "min_height": null,
            "min_width": null,
            "object_fit": null,
            "object_position": null,
            "order": null,
            "overflow": null,
            "overflow_x": null,
            "overflow_y": null,
            "padding": null,
            "right": null,
            "top": null,
            "visibility": null,
            "width": null
          }
        },
        "65019bb917e04438a6c1ebdc97a66317": {
          "model_module": "@jupyter-widgets/controls",
          "model_name": "DescriptionStyleModel",
          "model_module_version": "1.5.0",
          "state": {
            "_model_module": "@jupyter-widgets/controls",
            "_model_module_version": "1.5.0",
            "_model_name": "DescriptionStyleModel",
            "_view_count": null,
            "_view_module": "@jupyter-widgets/base",
            "_view_module_version": "1.2.0",
            "_view_name": "StyleView",
            "description_width": ""
          }
        },
        "d906822d407844e5af8646db67b59d1b": {
          "model_module": "@jupyter-widgets/base",
          "model_name": "LayoutModel",
          "model_module_version": "1.2.0",
          "state": {
            "_model_module": "@jupyter-widgets/base",
            "_model_module_version": "1.2.0",
            "_model_name": "LayoutModel",
            "_view_count": null,
            "_view_module": "@jupyter-widgets/base",
            "_view_module_version": "1.2.0",
            "_view_name": "LayoutView",
            "align_content": null,
            "align_items": null,
            "align_self": null,
            "border": null,
            "bottom": null,
            "display": null,
            "flex": null,
            "flex_flow": null,
            "grid_area": null,
            "grid_auto_columns": null,
            "grid_auto_flow": null,
            "grid_auto_rows": null,
            "grid_column": null,
            "grid_gap": null,
            "grid_row": null,
            "grid_template_areas": null,
            "grid_template_columns": null,
            "grid_template_rows": null,
            "height": null,
            "justify_content": null,
            "justify_items": null,
            "left": null,
            "margin": null,
            "max_height": null,
            "max_width": null,
            "min_height": null,
            "min_width": null,
            "object_fit": null,
            "object_position": null,
            "order": null,
            "overflow": null,
            "overflow_x": null,
            "overflow_y": null,
            "padding": null,
            "right": null,
            "top": null,
            "visibility": null,
            "width": null
          }
        },
        "c45d253e4c914e26b6d641b3904dca8c": {
          "model_module": "@jupyter-widgets/controls",
          "model_name": "ProgressStyleModel",
          "model_module_version": "1.5.0",
          "state": {
            "_model_module": "@jupyter-widgets/controls",
            "_model_module_version": "1.5.0",
            "_model_name": "ProgressStyleModel",
            "_view_count": null,
            "_view_module": "@jupyter-widgets/base",
            "_view_module_version": "1.2.0",
            "_view_name": "StyleView",
            "bar_color": null,
            "description_width": ""
          }
        },
        "e338470703fa4ba39e0feaa49b3a587c": {
          "model_module": "@jupyter-widgets/base",
          "model_name": "LayoutModel",
          "model_module_version": "1.2.0",
          "state": {
            "_model_module": "@jupyter-widgets/base",
            "_model_module_version": "1.2.0",
            "_model_name": "LayoutModel",
            "_view_count": null,
            "_view_module": "@jupyter-widgets/base",
            "_view_module_version": "1.2.0",
            "_view_name": "LayoutView",
            "align_content": null,
            "align_items": null,
            "align_self": null,
            "border": null,
            "bottom": null,
            "display": null,
            "flex": null,
            "flex_flow": null,
            "grid_area": null,
            "grid_auto_columns": null,
            "grid_auto_flow": null,
            "grid_auto_rows": null,
            "grid_column": null,
            "grid_gap": null,
            "grid_row": null,
            "grid_template_areas": null,
            "grid_template_columns": null,
            "grid_template_rows": null,
            "height": null,
            "justify_content": null,
            "justify_items": null,
            "left": null,
            "margin": null,
            "max_height": null,
            "max_width": null,
            "min_height": null,
            "min_width": null,
            "object_fit": null,
            "object_position": null,
            "order": null,
            "overflow": null,
            "overflow_x": null,
            "overflow_y": null,
            "padding": null,
            "right": null,
            "top": null,
            "visibility": null,
            "width": null
          }
        },
        "6b5098145f4e4335abbf0c195b0d6025": {
          "model_module": "@jupyter-widgets/controls",
          "model_name": "DescriptionStyleModel",
          "model_module_version": "1.5.0",
          "state": {
            "_model_module": "@jupyter-widgets/controls",
            "_model_module_version": "1.5.0",
            "_model_name": "DescriptionStyleModel",
            "_view_count": null,
            "_view_module": "@jupyter-widgets/base",
            "_view_module_version": "1.2.0",
            "_view_name": "StyleView",
            "description_width": ""
          }
        }
      }
    }
  },
  "nbformat": 4,
  "nbformat_minor": 5
}